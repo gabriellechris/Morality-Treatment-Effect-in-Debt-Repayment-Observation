{
 "cells": [
  {
   "cell_type": "markdown",
   "metadata": {},
   "source": [
    "# Morality Treatment Effect in Debt Repayment Observation"
   ]
  },
  {
   "cell_type": "markdown",
   "metadata": {},
   "source": [
    "#### ==================================================================================================================="
   ]
  },
  {
   "cell_type": "markdown",
   "metadata": {},
   "source": [
    "### GadjahKembar's Final Project of Comfest 12 : Moral Incentives on Debt Repayment"
   ]
  },
  {
   "cell_type": "markdown",
   "metadata": {},
   "source": [
    "#### Member of GadjahKembar:\n",
    "   #####        - Wilson Wiranda\n",
    "   #####        - Gabriella Christina Kandinata\n",
    "   #####        - Rheco Paradhika Kusuma"
   ]
  },
  {
   "cell_type": "markdown",
   "metadata": {},
   "source": [
    "#### ==================================================================================================================="
   ]
  },
  {
   "cell_type": "markdown",
   "metadata": {
    "colab_type": "text",
    "id": "UbCcUfd_N2F0"
   },
   "source": [
    "# **Import**\n",
    "\n",
    "---\n",
    "Data, Packages, etc.\n"
   ]
  },
  {
   "cell_type": "code",
   "execution_count": 1,
   "metadata": {
    "colab": {
     "base_uri": "https://localhost:8080/",
     "height": 72
    },
    "colab_type": "code",
    "id": "1hgbxEI0NymR",
    "outputId": "61f018ae-46e3-4d35-8200-004e13286e0a"
   },
   "outputs": [],
   "source": [
    "import pandas as pd\n",
    "import numpy as np\n",
    "import matplotlib.pyplot as plt\n",
    "import seaborn as sns\n",
    "import xgboost as xgb\n",
    "from xgboost import XGBClassifier"
   ]
  },
  {
   "cell_type": "code",
   "execution_count": 2,
   "metadata": {
    "colab": {},
    "colab_type": "code",
    "id": "xwb4u1XZDjNc"
   },
   "outputs": [],
   "source": [
    "from sklearn.neighbors import KNeighborsClassifier\n",
    "from sklearn.model_selection import train_test_split, cross_val_score\n",
    "from sklearn.preprocessing import MinMaxScaler\n",
    "from sklearn.metrics import confusion_matrix, accuracy_score, classification_report, roc_curve, precision_score, recall_score, f1_score, roc_auc_score\n",
    "from sklearn.tree import DecisionTreeClassifier"
   ]
  },
  {
   "cell_type": "code",
   "execution_count": 3,
   "metadata": {
    "colab": {},
    "colab_type": "code",
    "id": "9Y0keP4uR-CI"
   },
   "outputs": [],
   "source": [
    "df = pd.read_csv('default_sample.csv')"
   ]
  },
  {
   "cell_type": "code",
   "execution_count": 4,
   "metadata": {
    "colab": {
     "base_uri": "https://localhost:8080/",
     "height": 1000
    },
    "colab_type": "code",
    "id": "gFvtMwbtSMhU",
    "outputId": "e5fa1978-ee6c-4ae6-b8d5-67f3795322ac",
    "scrolled": true
   },
   "outputs": [
    {
     "name": "stdout",
     "output_type": "stream",
     "text": [
      "<class 'pandas.core.frame.DataFrame'>\n",
      "RangeIndex: 6979 entries, 0 to 6978\n",
      "Data columns (total 72 columns):\n",
      " #   Column                            Non-Null Count  Dtype  \n",
      "---  ------                            --------------  -----  \n",
      " 0   age                               6979 non-null   float64\n",
      " 1   amount_repaid                     6979 non-null   int64  \n",
      " 2   amount_spent_next1month           6979 non-null   int64  \n",
      " 3   cash_rebate                       6979 non-null   int64  \n",
      " 4   cash_rebate_amount                0 non-null      float64\n",
      " 5   credit_rep                        6979 non-null   int64  \n",
      " 6   credit_rep_plus_moral_rel         6979 non-null   int64  \n",
      " 7   credit_rep_version                2000 non-null   float64\n",
      " 8   creditlimit                       6979 non-null   float64\n",
      " 9   crowding_out_exp                  6979 non-null   int64  \n",
      " 10  ctrl                              6979 non-null   int64  \n",
      " 11  debt_to_income                    2979 non-null   float64\n",
      " 12  debt_to_income_moral              2979 non-null   float64\n",
      " 13  default                           6979 non-null   int64  \n",
      " 14  delinquent                        6979 non-null   int64  \n",
      " 15  female                            6979 non-null   int64  \n",
      " 16  followup_exp                      6979 non-null   int64  \n",
      " 17  income                            6979 non-null   float64\n",
      " 18  late_2016                         6979 non-null   int64  \n",
      " 19  main_exp                          6979 non-null   int64  \n",
      " 20  male                              2979 non-null   float64\n",
      " 21  male_moral                        2979 non-null   float64\n",
      " 22  min_payment                       6979 non-null   int64  \n",
      " 23  moral_all                         6979 non-null   int64  \n",
      " 24  moral_first                       6979 non-null   int64  \n",
      " 25  moral_imp                         6979 non-null   int64  \n",
      " 26  moral_non                         6979 non-null   int64  \n",
      " 27  moral_rel                         6979 non-null   int64  \n",
      " 28  moral_repeated                    6979 non-null   int64  \n",
      " 29  muslim                            6979 non-null   int64  \n",
      " 30  muslim_moral                      2979 non-null   float64\n",
      " 31  old                               2979 non-null   float64\n",
      " 32  old_moral                         2979 non-null   float64\n",
      " 33  outstanding                       6979 non-null   float64\n",
      " 34  p_usage_next1month                6979 non-null   int64  \n",
      " 35  poor_credit_history               6979 non-null   int64  \n",
      " 36  poor_credit_history_moral         2979 non-null   float64\n",
      " 37  province                          6979 non-null   int64  \n",
      " 38  province_name                     6979 non-null   object \n",
      " 39  randomcardnumber                  6979 non-null   int64  \n",
      " 40  religious_plac                    6979 non-null   int64  \n",
      " 41  repaid_twice_min                  6979 non-null   int64  \n",
      " 42  sample_before                     6979 non-null   int64  \n",
      " 43  savings_15                        910 non-null    float64\n",
      " 44  savings_18                        910 non-null    float64\n",
      " 45  savings_account                   6979 non-null   int64  \n",
      " 46  savings_reduced                   910 non-null    float64\n",
      " 47  simple_rem                        6979 non-null   int64  \n",
      " 48  simple_rem_plus_due_date_message  6979 non-null   int64  \n",
      " 49  time_lag_first_moral              0 non-null      float64\n",
      " 50  treatment                         6979 non-null   object \n",
      " 51  treatment_repeated                0 non-null      float64\n",
      " 52  treatment_wave1                   2778 non-null   object \n",
      " 53  treatment_wave2                   2927 non-null   object \n",
      " 54  treatment_wave3                   1963 non-null   object \n",
      " 55  treatment_wave4                   92 non-null     object \n",
      " 56  treatment_wave5                   398 non-null    object \n",
      " 57  treatment_wave6                   126 non-null    object \n",
      " 58  type_obs                          6979 non-null   object \n",
      " 59  wave                              6979 non-null   int64  \n",
      " 60  default_sample                    6979 non-null   int64  \n",
      " 61  ctrl_extra_weight                 258 non-null    float64\n",
      " 62  weight                            6979 non-null   float64\n",
      " 63  prediction                        6979 non-null   float64\n",
      " 64  high_credit_risk                  6979 non-null   int64  \n",
      " 65  low_credit_risk                   6979 non-null   int64  \n",
      " 66  religious_province                6979 non-null   int64  \n",
      " 67  religious_province_moral          2979 non-null   float64\n",
      " 68  high_credit_risk_50               6979 non-null   int64  \n",
      " 69  high_credit_risk_75               6979 non-null   int64  \n",
      " 70  high_credit_risk_90               6979 non-null   int64  \n",
      " 71  high_credit_risk_95               6979 non-null   int64  \n",
      "dtypes: float64(23), int64(40), object(9)\n",
      "memory usage: 3.8+ MB\n"
     ]
    }
   ],
   "source": [
    "df.info()"
   ]
  },
  {
   "cell_type": "code",
   "execution_count": 5,
   "metadata": {
    "colab": {
     "base_uri": "https://localhost:8080/",
     "height": 314
    },
    "colab_type": "code",
    "id": "1w8F0h0kC8SC",
    "outputId": "ead985b8-7f3c-4b14-e20b-7aefd7db88fc"
   },
   "outputs": [
    {
     "data": {
      "text/html": [
       "<div>\n",
       "<style scoped>\n",
       "    .dataframe tbody tr th:only-of-type {\n",
       "        vertical-align: middle;\n",
       "    }\n",
       "\n",
       "    .dataframe tbody tr th {\n",
       "        vertical-align: top;\n",
       "    }\n",
       "\n",
       "    .dataframe thead th {\n",
       "        text-align: right;\n",
       "    }\n",
       "</style>\n",
       "<table border=\"1\" class=\"dataframe\">\n",
       "  <thead>\n",
       "    <tr style=\"text-align: right;\">\n",
       "      <th></th>\n",
       "      <th>age</th>\n",
       "      <th>amount_repaid</th>\n",
       "      <th>amount_spent_next1month</th>\n",
       "      <th>cash_rebate</th>\n",
       "      <th>cash_rebate_amount</th>\n",
       "      <th>credit_rep</th>\n",
       "      <th>credit_rep_plus_moral_rel</th>\n",
       "      <th>credit_rep_version</th>\n",
       "      <th>creditlimit</th>\n",
       "      <th>crowding_out_exp</th>\n",
       "      <th>...</th>\n",
       "      <th>weight</th>\n",
       "      <th>prediction</th>\n",
       "      <th>high_credit_risk</th>\n",
       "      <th>low_credit_risk</th>\n",
       "      <th>religious_province</th>\n",
       "      <th>religious_province_moral</th>\n",
       "      <th>high_credit_risk_50</th>\n",
       "      <th>high_credit_risk_75</th>\n",
       "      <th>high_credit_risk_90</th>\n",
       "      <th>high_credit_risk_95</th>\n",
       "    </tr>\n",
       "  </thead>\n",
       "  <tbody>\n",
       "    <tr>\n",
       "      <th>count</th>\n",
       "      <td>6979.000000</td>\n",
       "      <td>6.979000e+03</td>\n",
       "      <td>6.979000e+03</td>\n",
       "      <td>6979.0</td>\n",
       "      <td>0.0</td>\n",
       "      <td>6979.000000</td>\n",
       "      <td>6979.0</td>\n",
       "      <td>2000.000000</td>\n",
       "      <td>6979.000000</td>\n",
       "      <td>6979.0</td>\n",
       "      <td>...</td>\n",
       "      <td>6979.000000</td>\n",
       "      <td>6979.000000</td>\n",
       "      <td>6979.000000</td>\n",
       "      <td>6979.000000</td>\n",
       "      <td>6979.000000</td>\n",
       "      <td>2979.000000</td>\n",
       "      <td>6979.000000</td>\n",
       "      <td>6979.000000</td>\n",
       "      <td>6979.000000</td>\n",
       "      <td>6979.000000</td>\n",
       "    </tr>\n",
       "    <tr>\n",
       "      <th>mean</th>\n",
       "      <td>42.045171</td>\n",
       "      <td>6.726299e+05</td>\n",
       "      <td>1.129220e+06</td>\n",
       "      <td>0.0</td>\n",
       "      <td>NaN</td>\n",
       "      <td>0.286574</td>\n",
       "      <td>0.0</td>\n",
       "      <td>1.500000</td>\n",
       "      <td>13.619072</td>\n",
       "      <td>0.0</td>\n",
       "      <td>...</td>\n",
       "      <td>1.120648</td>\n",
       "      <td>0.054104</td>\n",
       "      <td>0.102737</td>\n",
       "      <td>0.897263</td>\n",
       "      <td>0.376272</td>\n",
       "      <td>0.122189</td>\n",
       "      <td>0.506806</td>\n",
       "      <td>0.253761</td>\n",
       "      <td>0.102737</td>\n",
       "      <td>0.049864</td>\n",
       "    </tr>\n",
       "    <tr>\n",
       "      <th>std</th>\n",
       "      <td>9.070359</td>\n",
       "      <td>1.959770e+06</td>\n",
       "      <td>3.238733e+06</td>\n",
       "      <td>0.0</td>\n",
       "      <td>NaN</td>\n",
       "      <td>0.452193</td>\n",
       "      <td>0.0</td>\n",
       "      <td>0.500125</td>\n",
       "      <td>9.414232</td>\n",
       "      <td>0.0</td>\n",
       "      <td>...</td>\n",
       "      <td>0.625274</td>\n",
       "      <td>0.039085</td>\n",
       "      <td>0.303637</td>\n",
       "      <td>0.303637</td>\n",
       "      <td>0.484484</td>\n",
       "      <td>0.327559</td>\n",
       "      <td>0.499989</td>\n",
       "      <td>0.435194</td>\n",
       "      <td>0.303637</td>\n",
       "      <td>0.217679</td>\n",
       "    </tr>\n",
       "    <tr>\n",
       "      <th>min</th>\n",
       "      <td>22.166666</td>\n",
       "      <td>0.000000e+00</td>\n",
       "      <td>0.000000e+00</td>\n",
       "      <td>0.0</td>\n",
       "      <td>NaN</td>\n",
       "      <td>0.000000</td>\n",
       "      <td>0.0</td>\n",
       "      <td>1.000000</td>\n",
       "      <td>4.000000</td>\n",
       "      <td>0.0</td>\n",
       "      <td>...</td>\n",
       "      <td>1.000000</td>\n",
       "      <td>-0.052320</td>\n",
       "      <td>0.000000</td>\n",
       "      <td>0.000000</td>\n",
       "      <td>0.000000</td>\n",
       "      <td>0.000000</td>\n",
       "      <td>0.000000</td>\n",
       "      <td>0.000000</td>\n",
       "      <td>0.000000</td>\n",
       "      <td>0.000000</td>\n",
       "    </tr>\n",
       "    <tr>\n",
       "      <th>25%</th>\n",
       "      <td>35.166668</td>\n",
       "      <td>0.000000e+00</td>\n",
       "      <td>0.000000e+00</td>\n",
       "      <td>0.0</td>\n",
       "      <td>NaN</td>\n",
       "      <td>0.000000</td>\n",
       "      <td>0.0</td>\n",
       "      <td>1.000000</td>\n",
       "      <td>10.000000</td>\n",
       "      <td>0.0</td>\n",
       "      <td>...</td>\n",
       "      <td>1.000000</td>\n",
       "      <td>0.028717</td>\n",
       "      <td>0.000000</td>\n",
       "      <td>1.000000</td>\n",
       "      <td>0.000000</td>\n",
       "      <td>0.000000</td>\n",
       "      <td>0.000000</td>\n",
       "      <td>0.000000</td>\n",
       "      <td>0.000000</td>\n",
       "      <td>0.000000</td>\n",
       "    </tr>\n",
       "    <tr>\n",
       "      <th>50%</th>\n",
       "      <td>41.666664</td>\n",
       "      <td>0.000000e+00</td>\n",
       "      <td>0.000000e+00</td>\n",
       "      <td>0.0</td>\n",
       "      <td>NaN</td>\n",
       "      <td>0.000000</td>\n",
       "      <td>0.0</td>\n",
       "      <td>1.500000</td>\n",
       "      <td>10.000000</td>\n",
       "      <td>0.0</td>\n",
       "      <td>...</td>\n",
       "      <td>1.000000</td>\n",
       "      <td>0.049623</td>\n",
       "      <td>0.000000</td>\n",
       "      <td>1.000000</td>\n",
       "      <td>0.000000</td>\n",
       "      <td>0.000000</td>\n",
       "      <td>1.000000</td>\n",
       "      <td>0.000000</td>\n",
       "      <td>0.000000</td>\n",
       "      <td>0.000000</td>\n",
       "    </tr>\n",
       "    <tr>\n",
       "      <th>75%</th>\n",
       "      <td>48.374998</td>\n",
       "      <td>8.000000e+05</td>\n",
       "      <td>1.000000e+06</td>\n",
       "      <td>0.0</td>\n",
       "      <td>NaN</td>\n",
       "      <td>1.000000</td>\n",
       "      <td>0.0</td>\n",
       "      <td>2.000000</td>\n",
       "      <td>15.000000</td>\n",
       "      <td>0.0</td>\n",
       "      <td>...</td>\n",
       "      <td>1.000000</td>\n",
       "      <td>0.074494</td>\n",
       "      <td>0.000000</td>\n",
       "      <td>1.000000</td>\n",
       "      <td>1.000000</td>\n",
       "      <td>0.000000</td>\n",
       "      <td>1.000000</td>\n",
       "      <td>1.000000</td>\n",
       "      <td>0.000000</td>\n",
       "      <td>0.000000</td>\n",
       "    </tr>\n",
       "    <tr>\n",
       "      <th>max</th>\n",
       "      <td>91.666664</td>\n",
       "      <td>4.001350e+07</td>\n",
       "      <td>7.874759e+07</td>\n",
       "      <td>0.0</td>\n",
       "      <td>NaN</td>\n",
       "      <td>1.000000</td>\n",
       "      <td>0.0</td>\n",
       "      <td>2.000000</td>\n",
       "      <td>75.000000</td>\n",
       "      <td>0.0</td>\n",
       "      <td>...</td>\n",
       "      <td>4.910891</td>\n",
       "      <td>0.536855</td>\n",
       "      <td>1.000000</td>\n",
       "      <td>1.000000</td>\n",
       "      <td>1.000000</td>\n",
       "      <td>1.000000</td>\n",
       "      <td>1.000000</td>\n",
       "      <td>1.000000</td>\n",
       "      <td>1.000000</td>\n",
       "      <td>1.000000</td>\n",
       "    </tr>\n",
       "  </tbody>\n",
       "</table>\n",
       "<p>8 rows × 63 columns</p>\n",
       "</div>"
      ],
      "text/plain": [
       "               age  amount_repaid  amount_spent_next1month  cash_rebate  \\\n",
       "count  6979.000000   6.979000e+03             6.979000e+03       6979.0   \n",
       "mean     42.045171   6.726299e+05             1.129220e+06          0.0   \n",
       "std       9.070359   1.959770e+06             3.238733e+06          0.0   \n",
       "min      22.166666   0.000000e+00             0.000000e+00          0.0   \n",
       "25%      35.166668   0.000000e+00             0.000000e+00          0.0   \n",
       "50%      41.666664   0.000000e+00             0.000000e+00          0.0   \n",
       "75%      48.374998   8.000000e+05             1.000000e+06          0.0   \n",
       "max      91.666664   4.001350e+07             7.874759e+07          0.0   \n",
       "\n",
       "       cash_rebate_amount   credit_rep  credit_rep_plus_moral_rel  \\\n",
       "count                 0.0  6979.000000                     6979.0   \n",
       "mean                  NaN     0.286574                        0.0   \n",
       "std                   NaN     0.452193                        0.0   \n",
       "min                   NaN     0.000000                        0.0   \n",
       "25%                   NaN     0.000000                        0.0   \n",
       "50%                   NaN     0.000000                        0.0   \n",
       "75%                   NaN     1.000000                        0.0   \n",
       "max                   NaN     1.000000                        0.0   \n",
       "\n",
       "       credit_rep_version  creditlimit  crowding_out_exp  ...       weight  \\\n",
       "count         2000.000000  6979.000000            6979.0  ...  6979.000000   \n",
       "mean             1.500000    13.619072               0.0  ...     1.120648   \n",
       "std              0.500125     9.414232               0.0  ...     0.625274   \n",
       "min              1.000000     4.000000               0.0  ...     1.000000   \n",
       "25%              1.000000    10.000000               0.0  ...     1.000000   \n",
       "50%              1.500000    10.000000               0.0  ...     1.000000   \n",
       "75%              2.000000    15.000000               0.0  ...     1.000000   \n",
       "max              2.000000    75.000000               0.0  ...     4.910891   \n",
       "\n",
       "        prediction  high_credit_risk  low_credit_risk  religious_province  \\\n",
       "count  6979.000000       6979.000000      6979.000000         6979.000000   \n",
       "mean      0.054104          0.102737         0.897263            0.376272   \n",
       "std       0.039085          0.303637         0.303637            0.484484   \n",
       "min      -0.052320          0.000000         0.000000            0.000000   \n",
       "25%       0.028717          0.000000         1.000000            0.000000   \n",
       "50%       0.049623          0.000000         1.000000            0.000000   \n",
       "75%       0.074494          0.000000         1.000000            1.000000   \n",
       "max       0.536855          1.000000         1.000000            1.000000   \n",
       "\n",
       "       religious_province_moral  high_credit_risk_50  high_credit_risk_75  \\\n",
       "count               2979.000000          6979.000000          6979.000000   \n",
       "mean                   0.122189             0.506806             0.253761   \n",
       "std                    0.327559             0.499989             0.435194   \n",
       "min                    0.000000             0.000000             0.000000   \n",
       "25%                    0.000000             0.000000             0.000000   \n",
       "50%                    0.000000             1.000000             0.000000   \n",
       "75%                    0.000000             1.000000             1.000000   \n",
       "max                    1.000000             1.000000             1.000000   \n",
       "\n",
       "       high_credit_risk_90  high_credit_risk_95  \n",
       "count          6979.000000          6979.000000  \n",
       "mean              0.102737             0.049864  \n",
       "std               0.303637             0.217679  \n",
       "min               0.000000             0.000000  \n",
       "25%               0.000000             0.000000  \n",
       "50%               0.000000             0.000000  \n",
       "75%               0.000000             0.000000  \n",
       "max               1.000000             1.000000  \n",
       "\n",
       "[8 rows x 63 columns]"
      ]
     },
     "execution_count": 5,
     "metadata": {},
     "output_type": "execute_result"
    }
   ],
   "source": [
    "df.describe()"
   ]
  },
  {
   "cell_type": "code",
   "execution_count": 6,
   "metadata": {
    "colab": {
     "base_uri": "https://localhost:8080/",
     "height": 191
    },
    "colab_type": "code",
    "id": "JQggM2feDe7F",
    "outputId": "4b3f6c3a-7bc8-4eba-842b-5e6a5675a702"
   },
   "outputs": [
    {
     "name": "stdout",
     "output_type": "stream",
     "text": [
      "(6979, 72) \n",
      "\n",
      "         age  amount_repaid  amount_spent_next1month  cash_rebate  \\\n",
      "0  40.250000         484000                        0            0   \n",
      "1  56.000000              0                        0            0   \n",
      "2  26.333334              0                  1745370            0   \n",
      "3  32.333332        1410000                  1040000            0   \n",
      "4  41.000000         600000                        0            0   \n",
      "\n",
      "   cash_rebate_amount  credit_rep  credit_rep_plus_moral_rel  \\\n",
      "0                 NaN           1                          0   \n",
      "1                 NaN           0                          0   \n",
      "2                 NaN           0                          0   \n",
      "3                 NaN           0                          0   \n",
      "4                 NaN           1                          0   \n",
      "\n",
      "   credit_rep_version  creditlimit  crowding_out_exp  ...  weight  prediction  \\\n",
      "0                 2.0         10.0                 0  ...     1.0    0.054791   \n",
      "1                 NaN         10.0                 0  ...     1.0    0.077450   \n",
      "2                 NaN         10.0                 0  ...     1.0    0.058166   \n",
      "3                 NaN         10.0                 0  ...     1.0    0.061453   \n",
      "4                 2.0         10.0                 0  ...     1.0    0.056379   \n",
      "\n",
      "   high_credit_risk  low_credit_risk  religious_province  \\\n",
      "0                 0                1                   1   \n",
      "1                 0                1                   1   \n",
      "2                 0                1                   1   \n",
      "3                 0                1                   1   \n",
      "4                 0                1                   1   \n",
      "\n",
      "   religious_province_moral  high_credit_risk_50  high_credit_risk_75  \\\n",
      "0                       NaN                    1                    0   \n",
      "1                       0.0                    1                    1   \n",
      "2                       1.0                    1                    0   \n",
      "3                       1.0                    1                    0   \n",
      "4                       NaN                    1                    0   \n",
      "\n",
      "   high_credit_risk_90  high_credit_risk_95  \n",
      "0                    0                    0  \n",
      "1                    0                    0  \n",
      "2                    0                    0  \n",
      "3                    0                    0  \n",
      "4                    0                    0  \n",
      "\n",
      "[5 rows x 72 columns]\n"
     ]
    }
   ],
   "source": [
    "print(df.shape, \"\\n\")\n",
    "print(df.head())"
   ]
  },
  {
   "cell_type": "markdown",
   "metadata": {
    "colab_type": "text",
    "id": "hGs3-ZKLOCp6"
   },
   "source": [
    "# **Exploratory Data Analysis**"
   ]
  },
  {
   "cell_type": "markdown",
   "metadata": {
    "colab_type": "text",
    "id": "XOzGU7UHD_Y1"
   },
   "source": [
    "## No 1\n",
    "Which one of the following treatments that affects debt repayment rate the most :\n",
    "religious moral incentive, non-religious moral incentive, financial incentive, credit\n",
    "reputation?\n",
    "\n",
    "---\n",
    "\n"
   ]
  },
  {
   "cell_type": "code",
   "execution_count": 7,
   "metadata": {
    "colab": {
     "base_uri": "https://localhost:8080/",
     "height": 1000
    },
    "colab_type": "code",
    "id": "mEqIaHuNuv03",
    "outputId": "a004e06f-5466-4bda-87bd-05cdfbb7a192"
   },
   "outputs": [
    {
     "name": "stdout",
     "output_type": "stream",
     "text": [
      "<class 'pandas.core.frame.DataFrame'>\n",
      "RangeIndex: 6979 entries, 0 to 6978\n",
      "Data columns (total 72 columns):\n",
      " #   Column                            Non-Null Count  Dtype  \n",
      "---  ------                            --------------  -----  \n",
      " 0   age                               6979 non-null   float64\n",
      " 1   amount_repaid                     6979 non-null   int64  \n",
      " 2   amount_spent_next1month           6979 non-null   int64  \n",
      " 3   cash_rebate                       6979 non-null   int64  \n",
      " 4   cash_rebate_amount                0 non-null      float64\n",
      " 5   credit_rep                        6979 non-null   int64  \n",
      " 6   credit_rep_plus_moral_rel         6979 non-null   int64  \n",
      " 7   credit_rep_version                2000 non-null   float64\n",
      " 8   creditlimit                       6979 non-null   float64\n",
      " 9   crowding_out_exp                  6979 non-null   int64  \n",
      " 10  ctrl                              6979 non-null   int64  \n",
      " 11  debt_to_income                    2979 non-null   float64\n",
      " 12  debt_to_income_moral              2979 non-null   float64\n",
      " 13  default                           6979 non-null   int64  \n",
      " 14  delinquent                        6979 non-null   int64  \n",
      " 15  female                            6979 non-null   int64  \n",
      " 16  followup_exp                      6979 non-null   int64  \n",
      " 17  income                            6979 non-null   float64\n",
      " 18  late_2016                         6979 non-null   int64  \n",
      " 19  main_exp                          6979 non-null   int64  \n",
      " 20  male                              2979 non-null   float64\n",
      " 21  male_moral                        2979 non-null   float64\n",
      " 22  min_payment                       6979 non-null   int64  \n",
      " 23  moral_all                         6979 non-null   int64  \n",
      " 24  moral_first                       6979 non-null   int64  \n",
      " 25  moral_imp                         6979 non-null   int64  \n",
      " 26  moral_non                         6979 non-null   int64  \n",
      " 27  moral_rel                         6979 non-null   int64  \n",
      " 28  moral_repeated                    6979 non-null   int64  \n",
      " 29  muslim                            6979 non-null   int64  \n",
      " 30  muslim_moral                      2979 non-null   float64\n",
      " 31  old                               2979 non-null   float64\n",
      " 32  old_moral                         2979 non-null   float64\n",
      " 33  outstanding                       6979 non-null   float64\n",
      " 34  p_usage_next1month                6979 non-null   int64  \n",
      " 35  poor_credit_history               6979 non-null   int64  \n",
      " 36  poor_credit_history_moral         2979 non-null   float64\n",
      " 37  province                          6979 non-null   int64  \n",
      " 38  province_name                     6979 non-null   object \n",
      " 39  randomcardnumber                  6979 non-null   int64  \n",
      " 40  religious_plac                    6979 non-null   int64  \n",
      " 41  repaid_twice_min                  6979 non-null   int64  \n",
      " 42  sample_before                     6979 non-null   int64  \n",
      " 43  savings_15                        910 non-null    float64\n",
      " 44  savings_18                        910 non-null    float64\n",
      " 45  savings_account                   6979 non-null   int64  \n",
      " 46  savings_reduced                   910 non-null    float64\n",
      " 47  simple_rem                        6979 non-null   int64  \n",
      " 48  simple_rem_plus_due_date_message  6979 non-null   int64  \n",
      " 49  time_lag_first_moral              0 non-null      float64\n",
      " 50  treatment                         6979 non-null   object \n",
      " 51  treatment_repeated                0 non-null      float64\n",
      " 52  treatment_wave1                   2778 non-null   object \n",
      " 53  treatment_wave2                   2927 non-null   object \n",
      " 54  treatment_wave3                   1963 non-null   object \n",
      " 55  treatment_wave4                   92 non-null     object \n",
      " 56  treatment_wave5                   398 non-null    object \n",
      " 57  treatment_wave6                   126 non-null    object \n",
      " 58  type_obs                          6979 non-null   object \n",
      " 59  wave                              6979 non-null   int64  \n",
      " 60  default_sample                    6979 non-null   int64  \n",
      " 61  ctrl_extra_weight                 258 non-null    float64\n",
      " 62  weight                            6979 non-null   float64\n",
      " 63  prediction                        6979 non-null   float64\n",
      " 64  high_credit_risk                  6979 non-null   int64  \n",
      " 65  low_credit_risk                   6979 non-null   int64  \n",
      " 66  religious_province                6979 non-null   int64  \n",
      " 67  religious_province_moral          2979 non-null   float64\n",
      " 68  high_credit_risk_50               6979 non-null   int64  \n",
      " 69  high_credit_risk_75               6979 non-null   int64  \n",
      " 70  high_credit_risk_90               6979 non-null   int64  \n",
      " 71  high_credit_risk_95               6979 non-null   int64  \n",
      "dtypes: float64(23), int64(40), object(9)\n",
      "memory usage: 3.8+ MB\n"
     ]
    }
   ],
   "source": [
    "df_1 = df.copy()\n",
    "df_1.info()"
   ]
  },
  {
   "cell_type": "code",
   "execution_count": 8,
   "metadata": {
    "colab": {},
    "colab_type": "code",
    "id": "hljxQl27ulrX"
   },
   "outputs": [],
   "source": [
    "df_1.drop(['cash_rebate_amount','credit_rep_version', 'debt_to_income', 'debt_to_income_moral', 'male', 'male_moral', 'muslim_moral', 'old', 'old_moral', 'poor_credit_history_moral', 'savings_15', 'savings_18', 'savings_reduced', 'time_lag_first_moral', 'treatment_repeated', 'ctrl_extra_weight' ,'treatment', 'province_name', 'treatment_wave1', 'treatment_wave2', 'treatment_wave3', 'treatment_wave4', 'treatment_wave5', 'treatment_wave6', 'type_obs', 'religious_province_moral'], inplace=True, axis=1)"
   ]
  },
  {
   "cell_type": "code",
   "execution_count": 9,
   "metadata": {
    "colab": {},
    "colab_type": "code",
    "id": "r6jJdnACBKMZ"
   },
   "outputs": [],
   "source": [
    "#Analisis Regresi\n",
    "\n",
    "#Default\n",
    "import statsmodels.api as sm\n",
    "target_col=['default']\n",
    "cols = [i for i in df_1.columns if i not in target_col]\n",
    "y = df_1['default']\n",
    "x = df_1[cols]\n",
    "x_data = sm.add_constant(x)"
   ]
  },
  {
   "cell_type": "code",
   "execution_count": 10,
   "metadata": {
    "colab": {
     "base_uri": "https://localhost:8080/",
     "height": 1000
    },
    "colab_type": "code",
    "id": "D6BcfJE3CiPl",
    "outputId": "cac368d8-5137-4002-80f8-25f4164b9d01"
   },
   "outputs": [
    {
     "name": "stderr",
     "output_type": "stream",
     "text": [
      "D:\\Miniconda3\\lib\\site-packages\\statsmodels\\base\\model.py:1362: RuntimeWarning: invalid value encountered in true_divide\n",
      "  return self.params / self.bse\n",
      "D:\\Miniconda3\\lib\\site-packages\\scipy\\stats\\_distn_infrastructure.py:1932: RuntimeWarning: invalid value encountered in less_equal\n",
      "  cond2 = cond0 & (x <= _a)\n"
     ]
    },
    {
     "data": {
      "text/html": [
       "<table class=\"simpletable\">\n",
       "<caption>OLS Regression Results</caption>\n",
       "<tr>\n",
       "  <th>Dep. Variable:</th>         <td>default</td>     <th>  R-squared:         </th> <td>   0.121</td> \n",
       "</tr>\n",
       "<tr>\n",
       "  <th>Model:</th>                   <td>OLS</td>       <th>  Adj. R-squared:    </th> <td>   0.118</td> \n",
       "</tr>\n",
       "<tr>\n",
       "  <th>Method:</th>             <td>Least Squares</td>  <th>  F-statistic:       </th> <td>   33.13</td> \n",
       "</tr>\n",
       "<tr>\n",
       "  <th>Date:</th>             <td>Sat, 15 Aug 2020</td> <th>  Prob (F-statistic):</th> <td>4.64e-171</td>\n",
       "</tr>\n",
       "<tr>\n",
       "  <th>Time:</th>                 <td>09:54:46</td>     <th>  Log-Likelihood:    </th> <td>  458.22</td> \n",
       "</tr>\n",
       "<tr>\n",
       "  <th>No. Observations:</th>      <td>  6979</td>      <th>  AIC:               </th> <td>  -856.4</td> \n",
       "</tr>\n",
       "<tr>\n",
       "  <th>Df Residuals:</th>          <td>  6949</td>      <th>  BIC:               </th> <td>  -650.9</td> \n",
       "</tr>\n",
       "<tr>\n",
       "  <th>Df Model:</th>              <td>    29</td>      <th>                     </th>     <td> </td>    \n",
       "</tr>\n",
       "<tr>\n",
       "  <th>Covariance Type:</th>      <td>nonrobust</td>    <th>                     </th>     <td> </td>    \n",
       "</tr>\n",
       "</table>\n",
       "<table class=\"simpletable\">\n",
       "<tr>\n",
       "                  <td></td>                    <th>coef</th>     <th>std err</th>      <th>t</th>      <th>P>|t|</th>  <th>[0.025</th>    <th>0.975]</th>  \n",
       "</tr>\n",
       "<tr>\n",
       "  <th>age</th>                              <td>-6.926e-05</td> <td>    0.000</td> <td>   -0.215</td> <td> 0.830</td> <td>   -0.001</td> <td>    0.001</td>\n",
       "</tr>\n",
       "<tr>\n",
       "  <th>amount_repaid</th>                    <td>-4.176e-09</td> <td>  1.8e-09</td> <td>   -2.317</td> <td> 0.021</td> <td>-7.71e-09</td> <td>-6.43e-10</td>\n",
       "</tr>\n",
       "<tr>\n",
       "  <th>amount_spent_next1month</th>          <td>-2.395e-09</td> <td> 9.74e-10</td> <td>   -2.459</td> <td> 0.014</td> <td> -4.3e-09</td> <td>-4.85e-10</td>\n",
       "</tr>\n",
       "<tr>\n",
       "  <th>cash_rebate</th>                      <td> 4.164e-07</td> <td> 1.97e-06</td> <td>    0.211</td> <td> 0.833</td> <td>-3.44e-06</td> <td> 4.28e-06</td>\n",
       "</tr>\n",
       "<tr>\n",
       "  <th>credit_rep</th>                       <td>   -0.0037</td> <td>    0.005</td> <td>   -0.748</td> <td> 0.454</td> <td>   -0.014</td> <td>    0.006</td>\n",
       "</tr>\n",
       "<tr>\n",
       "  <th>credit_rep_plus_moral_rel</th>        <td> 1.907e-07</td> <td> 7.75e-07</td> <td>    0.246</td> <td> 0.806</td> <td>-1.33e-06</td> <td> 1.71e-06</td>\n",
       "</tr>\n",
       "<tr>\n",
       "  <th>creditlimit</th>                      <td>   -0.0020</td> <td>    0.000</td> <td>   -4.915</td> <td> 0.000</td> <td>   -0.003</td> <td>   -0.001</td>\n",
       "</tr>\n",
       "<tr>\n",
       "  <th>crowding_out_exp</th>                 <td>-1.678e-07</td> <td> 2.63e-07</td> <td>   -0.637</td> <td> 0.524</td> <td>-6.84e-07</td> <td> 3.48e-07</td>\n",
       "</tr>\n",
       "<tr>\n",
       "  <th>ctrl</th>                             <td>    0.0218</td> <td>    0.006</td> <td>    3.816</td> <td> 0.000</td> <td>    0.011</td> <td>    0.033</td>\n",
       "</tr>\n",
       "<tr>\n",
       "  <th>delinquent</th>                       <td>    0.0731</td> <td>    0.007</td> <td>   10.905</td> <td> 0.000</td> <td>    0.060</td> <td>    0.086</td>\n",
       "</tr>\n",
       "<tr>\n",
       "  <th>female</th>                           <td>   -0.0088</td> <td>    0.006</td> <td>   -1.428</td> <td> 0.153</td> <td>   -0.021</td> <td>    0.003</td>\n",
       "</tr>\n",
       "<tr>\n",
       "  <th>followup_exp</th>                     <td> -5.47e-06</td> <td> 1.99e-06</td> <td>   -2.747</td> <td> 0.006</td> <td>-9.37e-06</td> <td>-1.57e-06</td>\n",
       "</tr>\n",
       "<tr>\n",
       "  <th>income</th>                           <td>-2.155e-06</td> <td> 3.23e-06</td> <td>   -0.667</td> <td> 0.505</td> <td>-8.49e-06</td> <td> 4.18e-06</td>\n",
       "</tr>\n",
       "<tr>\n",
       "  <th>late_2016</th>                        <td>   -0.0642</td> <td>    0.007</td> <td>   -9.874</td> <td> 0.000</td> <td>   -0.077</td> <td>   -0.051</td>\n",
       "</tr>\n",
       "<tr>\n",
       "  <th>main_exp</th>                         <td>    0.0242</td> <td>    0.008</td> <td>    3.047</td> <td> 0.002</td> <td>    0.009</td> <td>    0.040</td>\n",
       "</tr>\n",
       "<tr>\n",
       "  <th>min_payment</th>                      <td> 4.931e-08</td> <td> 3.76e-09</td> <td>   13.099</td> <td> 0.000</td> <td> 4.19e-08</td> <td> 5.67e-08</td>\n",
       "</tr>\n",
       "<tr>\n",
       "  <th>moral_all</th>                        <td>   -0.0022</td> <td>    0.002</td> <td>   -0.902</td> <td> 0.367</td> <td>   -0.007</td> <td>    0.003</td>\n",
       "</tr>\n",
       "<tr>\n",
       "  <th>moral_first</th>                      <td>   -0.0022</td> <td>    0.002</td> <td>   -0.902</td> <td> 0.367</td> <td>   -0.007</td> <td>    0.003</td>\n",
       "</tr>\n",
       "<tr>\n",
       "  <th>moral_imp</th>                        <td>  1.27e-16</td> <td> 9.17e-17</td> <td>    1.385</td> <td> 0.166</td> <td>-5.28e-17</td> <td> 3.07e-16</td>\n",
       "</tr>\n",
       "<tr>\n",
       "  <th>moral_non</th>                        <td> 1.296e-16</td> <td> 9.85e-17</td> <td>    1.316</td> <td> 0.188</td> <td>-6.35e-17</td> <td> 3.23e-16</td>\n",
       "</tr>\n",
       "<tr>\n",
       "  <th>moral_rel</th>                        <td>   -0.0022</td> <td>    0.002</td> <td>   -0.902</td> <td> 0.367</td> <td>   -0.007</td> <td>    0.003</td>\n",
       "</tr>\n",
       "<tr>\n",
       "  <th>moral_repeated</th>                   <td>-9.456e-17</td> <td> 8.66e-17</td> <td>   -1.091</td> <td> 0.275</td> <td>-2.64e-16</td> <td> 7.53e-17</td>\n",
       "</tr>\n",
       "<tr>\n",
       "  <th>muslim</th>                           <td>    0.0026</td> <td>    0.010</td> <td>    0.255</td> <td> 0.799</td> <td>   -0.018</td> <td>    0.023</td>\n",
       "</tr>\n",
       "<tr>\n",
       "  <th>outstanding</th>                      <td>-6.136e-08</td> <td> 5.09e-08</td> <td>   -1.204</td> <td> 0.229</td> <td>-1.61e-07</td> <td> 3.85e-08</td>\n",
       "</tr>\n",
       "<tr>\n",
       "  <th>p_usage_next1month</th>               <td>   -0.0871</td> <td>    0.006</td> <td>  -13.983</td> <td> 0.000</td> <td>   -0.099</td> <td>   -0.075</td>\n",
       "</tr>\n",
       "<tr>\n",
       "  <th>poor_credit_history</th>              <td>   -0.0019</td> <td>    0.007</td> <td>   -0.275</td> <td> 0.783</td> <td>   -0.015</td> <td>    0.011</td>\n",
       "</tr>\n",
       "<tr>\n",
       "  <th>province</th>                         <td>   -0.0002</td> <td>    0.000</td> <td>   -0.481</td> <td> 0.630</td> <td>   -0.001</td> <td>    0.001</td>\n",
       "</tr>\n",
       "<tr>\n",
       "  <th>randomcardnumber</th>                 <td>-1.001e-14</td> <td>  9.5e-15</td> <td>   -1.054</td> <td> 0.292</td> <td>-2.86e-14</td> <td> 8.61e-15</td>\n",
       "</tr>\n",
       "<tr>\n",
       "  <th>religious_plac</th>                   <td>    0.0033</td> <td>    0.006</td> <td>    0.524</td> <td> 0.600</td> <td>   -0.009</td> <td>    0.016</td>\n",
       "</tr>\n",
       "<tr>\n",
       "  <th>repaid_twice_min</th>                 <td>    0.0288</td> <td>    0.012</td> <td>    2.367</td> <td> 0.018</td> <td>    0.005</td> <td>    0.053</td>\n",
       "</tr>\n",
       "<tr>\n",
       "  <th>sample_before</th>                    <td>   -0.0137</td> <td>    0.011</td> <td>   -1.228</td> <td> 0.220</td> <td>   -0.035</td> <td>    0.008</td>\n",
       "</tr>\n",
       "<tr>\n",
       "  <th>savings_account</th>                  <td>    0.0039</td> <td>    0.008</td> <td>    0.473</td> <td> 0.636</td> <td>   -0.012</td> <td>    0.020</td>\n",
       "</tr>\n",
       "<tr>\n",
       "  <th>simple_rem</th>                       <td>    0.0051</td> <td>    0.006</td> <td>    0.800</td> <td> 0.424</td> <td>   -0.007</td> <td>    0.017</td>\n",
       "</tr>\n",
       "<tr>\n",
       "  <th>simple_rem_plus_due_date_message</th> <td>         0</td> <td>        0</td> <td>      nan</td> <td>   nan</td> <td>        0</td> <td>        0</td>\n",
       "</tr>\n",
       "<tr>\n",
       "  <th>wave</th>                             <td>   -0.0002</td> <td>    0.004</td> <td>   -0.058</td> <td> 0.954</td> <td>   -0.008</td> <td>    0.007</td>\n",
       "</tr>\n",
       "<tr>\n",
       "  <th>default_sample</th>                   <td>    0.0242</td> <td>    0.008</td> <td>    3.047</td> <td> 0.002</td> <td>    0.009</td> <td>    0.040</td>\n",
       "</tr>\n",
       "<tr>\n",
       "  <th>weight</th>                           <td>   -0.0242</td> <td>    0.005</td> <td>   -5.239</td> <td> 0.000</td> <td>   -0.033</td> <td>   -0.015</td>\n",
       "</tr>\n",
       "<tr>\n",
       "  <th>prediction</th>                       <td>    0.1777</td> <td>    0.142</td> <td>    1.255</td> <td> 0.209</td> <td>   -0.100</td> <td>    0.455</td>\n",
       "</tr>\n",
       "<tr>\n",
       "  <th>high_credit_risk</th>                 <td>    0.0031</td> <td>    0.006</td> <td>    0.507</td> <td> 0.612</td> <td>   -0.009</td> <td>    0.015</td>\n",
       "</tr>\n",
       "<tr>\n",
       "  <th>low_credit_risk</th>                  <td>    0.0211</td> <td>    0.006</td> <td>    3.380</td> <td> 0.001</td> <td>    0.009</td> <td>    0.033</td>\n",
       "</tr>\n",
       "<tr>\n",
       "  <th>religious_province</th>               <td>   -0.0032</td> <td>    0.009</td> <td>   -0.378</td> <td> 0.705</td> <td>   -0.020</td> <td>    0.014</td>\n",
       "</tr>\n",
       "<tr>\n",
       "  <th>high_credit_risk_50</th>              <td>    0.0091</td> <td>    0.009</td> <td>    1.060</td> <td> 0.289</td> <td>   -0.008</td> <td>    0.026</td>\n",
       "</tr>\n",
       "<tr>\n",
       "  <th>high_credit_risk_75</th>              <td>    0.0159</td> <td>    0.010</td> <td>    1.666</td> <td> 0.096</td> <td>   -0.003</td> <td>    0.035</td>\n",
       "</tr>\n",
       "<tr>\n",
       "  <th>high_credit_risk_90</th>              <td>    0.0031</td> <td>    0.006</td> <td>    0.507</td> <td> 0.612</td> <td>   -0.009</td> <td>    0.015</td>\n",
       "</tr>\n",
       "<tr>\n",
       "  <th>high_credit_risk_95</th>              <td>    0.0384</td> <td>    0.018</td> <td>    2.136</td> <td> 0.033</td> <td>    0.003</td> <td>    0.074</td>\n",
       "</tr>\n",
       "</table>\n",
       "<table class=\"simpletable\">\n",
       "<tr>\n",
       "  <th>Omnibus:</th>       <td>4160.736</td> <th>  Durbin-Watson:     </th> <td>   1.991</td> \n",
       "</tr>\n",
       "<tr>\n",
       "  <th>Prob(Omnibus):</th>  <td> 0.000</td>  <th>  Jarque-Bera (JB):  </th> <td>29775.268</td>\n",
       "</tr>\n",
       "<tr>\n",
       "  <th>Skew:</th>           <td> 2.916</td>  <th>  Prob(JB):          </th> <td>    0.00</td> \n",
       "</tr>\n",
       "<tr>\n",
       "  <th>Kurtosis:</th>       <td>11.269</td>  <th>  Cond. No.          </th> <td>7.22e+16</td> \n",
       "</tr>\n",
       "</table><br/><br/>Warnings:<br/>[1] Standard Errors assume that the covariance matrix of the errors is correctly specified.<br/>[2] The condition number is large, 7.22e+16. This might indicate that there are<br/>strong multicollinearity or other numerical problems."
      ],
      "text/plain": [
       "<class 'statsmodels.iolib.summary.Summary'>\n",
       "\"\"\"\n",
       "                            OLS Regression Results                            \n",
       "==============================================================================\n",
       "Dep. Variable:                default   R-squared:                       0.121\n",
       "Model:                            OLS   Adj. R-squared:                  0.118\n",
       "Method:                 Least Squares   F-statistic:                     33.13\n",
       "Date:                Sat, 15 Aug 2020   Prob (F-statistic):          4.64e-171\n",
       "Time:                        09:54:46   Log-Likelihood:                 458.22\n",
       "No. Observations:                6979   AIC:                            -856.4\n",
       "Df Residuals:                    6949   BIC:                            -650.9\n",
       "Df Model:                          29                                         \n",
       "Covariance Type:            nonrobust                                         \n",
       "====================================================================================================\n",
       "                                       coef    std err          t      P>|t|      [0.025      0.975]\n",
       "----------------------------------------------------------------------------------------------------\n",
       "age                              -6.926e-05      0.000     -0.215      0.830      -0.001       0.001\n",
       "amount_repaid                    -4.176e-09    1.8e-09     -2.317      0.021   -7.71e-09   -6.43e-10\n",
       "amount_spent_next1month          -2.395e-09   9.74e-10     -2.459      0.014    -4.3e-09   -4.85e-10\n",
       "cash_rebate                       4.164e-07   1.97e-06      0.211      0.833   -3.44e-06    4.28e-06\n",
       "credit_rep                          -0.0037      0.005     -0.748      0.454      -0.014       0.006\n",
       "credit_rep_plus_moral_rel         1.907e-07   7.75e-07      0.246      0.806   -1.33e-06    1.71e-06\n",
       "creditlimit                         -0.0020      0.000     -4.915      0.000      -0.003      -0.001\n",
       "crowding_out_exp                 -1.678e-07   2.63e-07     -0.637      0.524   -6.84e-07    3.48e-07\n",
       "ctrl                                 0.0218      0.006      3.816      0.000       0.011       0.033\n",
       "delinquent                           0.0731      0.007     10.905      0.000       0.060       0.086\n",
       "female                              -0.0088      0.006     -1.428      0.153      -0.021       0.003\n",
       "followup_exp                      -5.47e-06   1.99e-06     -2.747      0.006   -9.37e-06   -1.57e-06\n",
       "income                           -2.155e-06   3.23e-06     -0.667      0.505   -8.49e-06    4.18e-06\n",
       "late_2016                           -0.0642      0.007     -9.874      0.000      -0.077      -0.051\n",
       "main_exp                             0.0242      0.008      3.047      0.002       0.009       0.040\n",
       "min_payment                       4.931e-08   3.76e-09     13.099      0.000    4.19e-08    5.67e-08\n",
       "moral_all                           -0.0022      0.002     -0.902      0.367      -0.007       0.003\n",
       "moral_first                         -0.0022      0.002     -0.902      0.367      -0.007       0.003\n",
       "moral_imp                          1.27e-16   9.17e-17      1.385      0.166   -5.28e-17    3.07e-16\n",
       "moral_non                         1.296e-16   9.85e-17      1.316      0.188   -6.35e-17    3.23e-16\n",
       "moral_rel                           -0.0022      0.002     -0.902      0.367      -0.007       0.003\n",
       "moral_repeated                   -9.456e-17   8.66e-17     -1.091      0.275   -2.64e-16    7.53e-17\n",
       "muslim                               0.0026      0.010      0.255      0.799      -0.018       0.023\n",
       "outstanding                      -6.136e-08   5.09e-08     -1.204      0.229   -1.61e-07    3.85e-08\n",
       "p_usage_next1month                  -0.0871      0.006    -13.983      0.000      -0.099      -0.075\n",
       "poor_credit_history                 -0.0019      0.007     -0.275      0.783      -0.015       0.011\n",
       "province                            -0.0002      0.000     -0.481      0.630      -0.001       0.001\n",
       "randomcardnumber                 -1.001e-14    9.5e-15     -1.054      0.292   -2.86e-14    8.61e-15\n",
       "religious_plac                       0.0033      0.006      0.524      0.600      -0.009       0.016\n",
       "repaid_twice_min                     0.0288      0.012      2.367      0.018       0.005       0.053\n",
       "sample_before                       -0.0137      0.011     -1.228      0.220      -0.035       0.008\n",
       "savings_account                      0.0039      0.008      0.473      0.636      -0.012       0.020\n",
       "simple_rem                           0.0051      0.006      0.800      0.424      -0.007       0.017\n",
       "simple_rem_plus_due_date_message          0          0        nan        nan           0           0\n",
       "wave                                -0.0002      0.004     -0.058      0.954      -0.008       0.007\n",
       "default_sample                       0.0242      0.008      3.047      0.002       0.009       0.040\n",
       "weight                              -0.0242      0.005     -5.239      0.000      -0.033      -0.015\n",
       "prediction                           0.1777      0.142      1.255      0.209      -0.100       0.455\n",
       "high_credit_risk                     0.0031      0.006      0.507      0.612      -0.009       0.015\n",
       "low_credit_risk                      0.0211      0.006      3.380      0.001       0.009       0.033\n",
       "religious_province                  -0.0032      0.009     -0.378      0.705      -0.020       0.014\n",
       "high_credit_risk_50                  0.0091      0.009      1.060      0.289      -0.008       0.026\n",
       "high_credit_risk_75                  0.0159      0.010      1.666      0.096      -0.003       0.035\n",
       "high_credit_risk_90                  0.0031      0.006      0.507      0.612      -0.009       0.015\n",
       "high_credit_risk_95                  0.0384      0.018      2.136      0.033       0.003       0.074\n",
       "==============================================================================\n",
       "Omnibus:                     4160.736   Durbin-Watson:                   1.991\n",
       "Prob(Omnibus):                  0.000   Jarque-Bera (JB):            29775.268\n",
       "Skew:                           2.916   Prob(JB):                         0.00\n",
       "Kurtosis:                      11.269   Cond. No.                     7.22e+16\n",
       "==============================================================================\n",
       "\n",
       "Warnings:\n",
       "[1] Standard Errors assume that the covariance matrix of the errors is correctly specified.\n",
       "[2] The condition number is large, 7.22e+16. This might indicate that there are\n",
       "strong multicollinearity or other numerical problems.\n",
       "\"\"\""
      ]
     },
     "execution_count": 10,
     "metadata": {},
     "output_type": "execute_result"
    }
   ],
   "source": [
    "results = sm.OLS(y,x_data).fit()\n",
    "results.summary()"
   ]
  },
  {
   "cell_type": "code",
   "execution_count": 11,
   "metadata": {
    "colab": {},
    "colab_type": "code",
    "id": "uyQjqGu6vPas"
   },
   "outputs": [],
   "source": [
    "#deliquent\n",
    "import statsmodels.api as sm\n",
    "target_col=['delinquent']\n",
    "cols = [i for i in df_1.columns if i not in target_col]\n",
    "y_del = df_1['delinquent']\n",
    "x_del = df_1[cols]\n",
    "x_data_del = sm.add_constant(x_del)"
   ]
  },
  {
   "cell_type": "code",
   "execution_count": 12,
   "metadata": {
    "colab": {
     "base_uri": "https://localhost:8080/",
     "height": 1000
    },
    "colab_type": "code",
    "id": "QFWSYSpDvl6g",
    "outputId": "6c5b9c0d-a8fe-4fc6-ccea-77792a139192"
   },
   "outputs": [
    {
     "data": {
      "text/html": [
       "<table class=\"simpletable\">\n",
       "<caption>OLS Regression Results</caption>\n",
       "<tr>\n",
       "  <th>Dep. Variable:</th>       <td>delinquent</td>    <th>  R-squared:         </th> <td>   0.312</td>\n",
       "</tr>\n",
       "<tr>\n",
       "  <th>Model:</th>                   <td>OLS</td>       <th>  Adj. R-squared:    </th> <td>   0.309</td>\n",
       "</tr>\n",
       "<tr>\n",
       "  <th>Method:</th>             <td>Least Squares</td>  <th>  F-statistic:       </th> <td>   108.7</td>\n",
       "</tr>\n",
       "<tr>\n",
       "  <th>Date:</th>             <td>Sat, 15 Aug 2020</td> <th>  Prob (F-statistic):</th>  <td>  0.00</td> \n",
       "</tr>\n",
       "<tr>\n",
       "  <th>Time:</th>                 <td>09:54:46</td>     <th>  Log-Likelihood:    </th> <td> -3547.6</td>\n",
       "</tr>\n",
       "<tr>\n",
       "  <th>No. Observations:</th>      <td>  6979</td>      <th>  AIC:               </th> <td>   7155.</td>\n",
       "</tr>\n",
       "<tr>\n",
       "  <th>Df Residuals:</th>          <td>  6949</td>      <th>  BIC:               </th> <td>   7361.</td>\n",
       "</tr>\n",
       "<tr>\n",
       "  <th>Df Model:</th>              <td>    29</td>      <th>                     </th>     <td> </td>   \n",
       "</tr>\n",
       "<tr>\n",
       "  <th>Covariance Type:</th>      <td>nonrobust</td>    <th>                     </th>     <td> </td>   \n",
       "</tr>\n",
       "</table>\n",
       "<table class=\"simpletable\">\n",
       "<tr>\n",
       "                  <td></td>                    <th>coef</th>     <th>std err</th>      <th>t</th>      <th>P>|t|</th>  <th>[0.025</th>    <th>0.975]</th>  \n",
       "</tr>\n",
       "<tr>\n",
       "  <th>age</th>                              <td>   -0.0012</td> <td>    0.001</td> <td>   -2.024</td> <td> 0.043</td> <td>   -0.002</td> <td>-3.63e-05</td>\n",
       "</tr>\n",
       "<tr>\n",
       "  <th>amount_repaid</th>                    <td>-7.902e-08</td> <td> 3.06e-09</td> <td>  -25.851</td> <td> 0.000</td> <td> -8.5e-08</td> <td> -7.3e-08</td>\n",
       "</tr>\n",
       "<tr>\n",
       "  <th>amount_spent_next1month</th>          <td> 1.485e-08</td> <td> 1.72e-09</td> <td>    8.631</td> <td> 0.000</td> <td> 1.15e-08</td> <td> 1.82e-08</td>\n",
       "</tr>\n",
       "<tr>\n",
       "  <th>cash_rebate</th>                      <td> 2.114e-05</td> <td> 3.46e-06</td> <td>    6.115</td> <td> 0.000</td> <td> 1.44e-05</td> <td> 2.79e-05</td>\n",
       "</tr>\n",
       "<tr>\n",
       "  <th>credit_rep</th>                       <td>   -0.0057</td> <td>    0.009</td> <td>   -0.644</td> <td> 0.520</td> <td>   -0.023</td> <td>    0.012</td>\n",
       "</tr>\n",
       "<tr>\n",
       "  <th>credit_rep_plus_moral_rel</th>        <td> 2.372e-06</td> <td> 1.32e-06</td> <td>    1.803</td> <td> 0.071</td> <td>-2.07e-07</td> <td> 4.95e-06</td>\n",
       "</tr>\n",
       "<tr>\n",
       "  <th>creditlimit</th>                      <td>   -0.0006</td> <td>    0.001</td> <td>   -0.876</td> <td> 0.381</td> <td>   -0.002</td> <td>    0.001</td>\n",
       "</tr>\n",
       "<tr>\n",
       "  <th>crowding_out_exp</th>                 <td> 2.288e-07</td> <td> 5.01e-07</td> <td>    0.457</td> <td> 0.648</td> <td>-7.54e-07</td> <td> 1.21e-06</td>\n",
       "</tr>\n",
       "<tr>\n",
       "  <th>ctrl</th>                             <td>    0.1100</td> <td>    0.010</td> <td>   10.932</td> <td> 0.000</td> <td>    0.090</td> <td>    0.130</td>\n",
       "</tr>\n",
       "<tr>\n",
       "  <th>default</th>                          <td>    0.2303</td> <td>    0.021</td> <td>   10.904</td> <td> 0.000</td> <td>    0.189</td> <td>    0.272</td>\n",
       "</tr>\n",
       "<tr>\n",
       "  <th>female</th>                           <td>   -0.0022</td> <td>    0.011</td> <td>   -0.204</td> <td> 0.838</td> <td>   -0.024</td> <td>    0.019</td>\n",
       "</tr>\n",
       "<tr>\n",
       "  <th>followup_exp</th>                     <td>-1.493e-05</td> <td> 1.89e-06</td> <td>   -7.890</td> <td> 0.000</td> <td>-1.86e-05</td> <td>-1.12e-05</td>\n",
       "</tr>\n",
       "<tr>\n",
       "  <th>income</th>                           <td> 4.522e-06</td> <td> 5.74e-06</td> <td>    0.788</td> <td> 0.431</td> <td>-6.73e-06</td> <td> 1.58e-05</td>\n",
       "</tr>\n",
       "<tr>\n",
       "  <th>late_2016</th>                        <td>   -0.0371</td> <td>    0.012</td> <td>   -3.193</td> <td> 0.001</td> <td>   -0.060</td> <td>   -0.014</td>\n",
       "</tr>\n",
       "<tr>\n",
       "  <th>main_exp</th>                         <td>    0.2656</td> <td>    0.014</td> <td>   19.344</td> <td> 0.000</td> <td>    0.239</td> <td>    0.292</td>\n",
       "</tr>\n",
       "<tr>\n",
       "  <th>min_payment</th>                      <td> 1.376e-08</td> <td> 6.76e-09</td> <td>    2.034</td> <td> 0.042</td> <td> 5.01e-10</td> <td>  2.7e-08</td>\n",
       "</tr>\n",
       "<tr>\n",
       "  <th>moral_all</th>                        <td>    0.0136</td> <td>    0.004</td> <td>    3.113</td> <td> 0.002</td> <td>    0.005</td> <td>    0.022</td>\n",
       "</tr>\n",
       "<tr>\n",
       "  <th>moral_first</th>                      <td>    0.0136</td> <td>    0.004</td> <td>    3.111</td> <td> 0.002</td> <td>    0.005</td> <td>    0.022</td>\n",
       "</tr>\n",
       "<tr>\n",
       "  <th>moral_imp</th>                        <td>-1.176e-15</td> <td> 5.64e-16</td> <td>   -2.084</td> <td> 0.037</td> <td>-2.28e-15</td> <td>-6.96e-17</td>\n",
       "</tr>\n",
       "<tr>\n",
       "  <th>moral_non</th>                        <td>-1.259e-16</td> <td> 2.14e-17</td> <td>   -5.872</td> <td> 0.000</td> <td>-1.68e-16</td> <td>-8.39e-17</td>\n",
       "</tr>\n",
       "<tr>\n",
       "  <th>moral_rel</th>                        <td>    0.0136</td> <td>    0.004</td> <td>    3.111</td> <td> 0.002</td> <td>    0.005</td> <td>    0.022</td>\n",
       "</tr>\n",
       "<tr>\n",
       "  <th>moral_repeated</th>                   <td> -1.37e-16</td> <td> 8.39e-17</td> <td>   -1.633</td> <td> 0.103</td> <td>-3.01e-16</td> <td> 2.75e-17</td>\n",
       "</tr>\n",
       "<tr>\n",
       "  <th>muslim</th>                           <td>   -0.0139</td> <td>    0.018</td> <td>   -0.757</td> <td> 0.449</td> <td>   -0.050</td> <td>    0.022</td>\n",
       "</tr>\n",
       "<tr>\n",
       "  <th>outstanding</th>                      <td>-1.313e-07</td> <td> 9.05e-08</td> <td>   -1.450</td> <td> 0.147</td> <td>-3.09e-07</td> <td> 4.62e-08</td>\n",
       "</tr>\n",
       "<tr>\n",
       "  <th>p_usage_next1month</th>               <td>   -0.1348</td> <td>    0.011</td> <td>  -12.152</td> <td> 0.000</td> <td>   -0.157</td> <td>   -0.113</td>\n",
       "</tr>\n",
       "<tr>\n",
       "  <th>poor_credit_history</th>              <td>    0.1734</td> <td>    0.012</td> <td>   14.640</td> <td> 0.000</td> <td>    0.150</td> <td>    0.197</td>\n",
       "</tr>\n",
       "<tr>\n",
       "  <th>province</th>                         <td>   -0.0002</td> <td>    0.001</td> <td>   -0.238</td> <td> 0.812</td> <td>   -0.002</td> <td>    0.001</td>\n",
       "</tr>\n",
       "<tr>\n",
       "  <th>randomcardnumber</th>                 <td>  8.32e-15</td> <td> 1.69e-14</td> <td>    0.493</td> <td> 0.622</td> <td>-2.47e-14</td> <td> 4.14e-14</td>\n",
       "</tr>\n",
       "<tr>\n",
       "  <th>religious_plac</th>                   <td>    0.0705</td> <td>    0.011</td> <td>    6.331</td> <td> 0.000</td> <td>    0.049</td> <td>    0.092</td>\n",
       "</tr>\n",
       "<tr>\n",
       "  <th>repaid_twice_min</th>                 <td>   -0.3499</td> <td>    0.021</td> <td>  -16.493</td> <td> 0.000</td> <td>   -0.391</td> <td>   -0.308</td>\n",
       "</tr>\n",
       "<tr>\n",
       "  <th>sample_before</th>                    <td>    0.0303</td> <td>    0.020</td> <td>    1.534</td> <td> 0.125</td> <td>   -0.008</td> <td>    0.069</td>\n",
       "</tr>\n",
       "<tr>\n",
       "  <th>savings_account</th>                  <td>    0.0196</td> <td>    0.015</td> <td>    1.340</td> <td> 0.180</td> <td>   -0.009</td> <td>    0.048</td>\n",
       "</tr>\n",
       "<tr>\n",
       "  <th>simple_rem</th>                       <td>    0.0774</td> <td>    0.011</td> <td>    6.909</td> <td> 0.000</td> <td>    0.055</td> <td>    0.099</td>\n",
       "</tr>\n",
       "<tr>\n",
       "  <th>simple_rem_plus_due_date_message</th> <td>         0</td> <td>        0</td> <td>      nan</td> <td>   nan</td> <td>        0</td> <td>        0</td>\n",
       "</tr>\n",
       "<tr>\n",
       "  <th>wave</th>                             <td>   -0.0203</td> <td>    0.007</td> <td>   -2.967</td> <td> 0.003</td> <td>   -0.034</td> <td>   -0.007</td>\n",
       "</tr>\n",
       "<tr>\n",
       "  <th>default_sample</th>                   <td>    0.2655</td> <td>    0.014</td> <td>   19.342</td> <td> 0.000</td> <td>    0.239</td> <td>    0.292</td>\n",
       "</tr>\n",
       "<tr>\n",
       "  <th>weight</th>                           <td> 7.504e-05</td> <td>    0.008</td> <td>    0.009</td> <td> 0.993</td> <td>   -0.016</td> <td>    0.016</td>\n",
       "</tr>\n",
       "<tr>\n",
       "  <th>prediction</th>                       <td>    0.5094</td> <td>    0.251</td> <td>    2.027</td> <td> 0.043</td> <td>    0.017</td> <td>    1.002</td>\n",
       "</tr>\n",
       "<tr>\n",
       "  <th>high_credit_risk</th>                 <td>    0.0781</td> <td>    0.011</td> <td>    7.281</td> <td> 0.000</td> <td>    0.057</td> <td>    0.099</td>\n",
       "</tr>\n",
       "<tr>\n",
       "  <th>low_credit_risk</th>                  <td>    0.1874</td> <td>    0.011</td> <td>   17.256</td> <td> 0.000</td> <td>    0.166</td> <td>    0.209</td>\n",
       "</tr>\n",
       "<tr>\n",
       "  <th>religious_province</th>               <td>   -0.0236</td> <td>    0.015</td> <td>   -1.555</td> <td> 0.120</td> <td>   -0.053</td> <td>    0.006</td>\n",
       "</tr>\n",
       "<tr>\n",
       "  <th>high_credit_risk_50</th>              <td>   -0.0474</td> <td>    0.015</td> <td>   -3.106</td> <td> 0.002</td> <td>   -0.077</td> <td>   -0.017</td>\n",
       "</tr>\n",
       "<tr>\n",
       "  <th>high_credit_risk_75</th>              <td>    0.0183</td> <td>    0.017</td> <td>    1.080</td> <td> 0.280</td> <td>   -0.015</td> <td>    0.052</td>\n",
       "</tr>\n",
       "<tr>\n",
       "  <th>high_credit_risk_90</th>              <td>    0.0781</td> <td>    0.011</td> <td>    7.281</td> <td> 0.000</td> <td>    0.057</td> <td>    0.099</td>\n",
       "</tr>\n",
       "<tr>\n",
       "  <th>high_credit_risk_95</th>              <td>   -0.0383</td> <td>    0.032</td> <td>   -1.201</td> <td> 0.230</td> <td>   -0.101</td> <td>    0.024</td>\n",
       "</tr>\n",
       "</table>\n",
       "<table class=\"simpletable\">\n",
       "<tr>\n",
       "  <th>Omnibus:</th>       <td>100.247</td> <th>  Durbin-Watson:     </th> <td>   2.010</td>\n",
       "</tr>\n",
       "<tr>\n",
       "  <th>Prob(Omnibus):</th> <td> 0.000</td>  <th>  Jarque-Bera (JB):  </th> <td> 105.686</td>\n",
       "</tr>\n",
       "<tr>\n",
       "  <th>Skew:</th>          <td>-0.281</td>  <th>  Prob(JB):          </th> <td>1.12e-23</td>\n",
       "</tr>\n",
       "<tr>\n",
       "  <th>Kurtosis:</th>      <td> 3.219</td>  <th>  Cond. No.          </th> <td>2.70e+16</td>\n",
       "</tr>\n",
       "</table><br/><br/>Warnings:<br/>[1] Standard Errors assume that the covariance matrix of the errors is correctly specified.<br/>[2] The condition number is large, 2.7e+16. This might indicate that there are<br/>strong multicollinearity or other numerical problems."
      ],
      "text/plain": [
       "<class 'statsmodels.iolib.summary.Summary'>\n",
       "\"\"\"\n",
       "                            OLS Regression Results                            \n",
       "==============================================================================\n",
       "Dep. Variable:             delinquent   R-squared:                       0.312\n",
       "Model:                            OLS   Adj. R-squared:                  0.309\n",
       "Method:                 Least Squares   F-statistic:                     108.7\n",
       "Date:                Sat, 15 Aug 2020   Prob (F-statistic):               0.00\n",
       "Time:                        09:54:46   Log-Likelihood:                -3547.6\n",
       "No. Observations:                6979   AIC:                             7155.\n",
       "Df Residuals:                    6949   BIC:                             7361.\n",
       "Df Model:                          29                                         \n",
       "Covariance Type:            nonrobust                                         \n",
       "====================================================================================================\n",
       "                                       coef    std err          t      P>|t|      [0.025      0.975]\n",
       "----------------------------------------------------------------------------------------------------\n",
       "age                                 -0.0012      0.001     -2.024      0.043      -0.002   -3.63e-05\n",
       "amount_repaid                    -7.902e-08   3.06e-09    -25.851      0.000    -8.5e-08    -7.3e-08\n",
       "amount_spent_next1month           1.485e-08   1.72e-09      8.631      0.000    1.15e-08    1.82e-08\n",
       "cash_rebate                       2.114e-05   3.46e-06      6.115      0.000    1.44e-05    2.79e-05\n",
       "credit_rep                          -0.0057      0.009     -0.644      0.520      -0.023       0.012\n",
       "credit_rep_plus_moral_rel         2.372e-06   1.32e-06      1.803      0.071   -2.07e-07    4.95e-06\n",
       "creditlimit                         -0.0006      0.001     -0.876      0.381      -0.002       0.001\n",
       "crowding_out_exp                  2.288e-07   5.01e-07      0.457      0.648   -7.54e-07    1.21e-06\n",
       "ctrl                                 0.1100      0.010     10.932      0.000       0.090       0.130\n",
       "default                              0.2303      0.021     10.904      0.000       0.189       0.272\n",
       "female                              -0.0022      0.011     -0.204      0.838      -0.024       0.019\n",
       "followup_exp                     -1.493e-05   1.89e-06     -7.890      0.000   -1.86e-05   -1.12e-05\n",
       "income                            4.522e-06   5.74e-06      0.788      0.431   -6.73e-06    1.58e-05\n",
       "late_2016                           -0.0371      0.012     -3.193      0.001      -0.060      -0.014\n",
       "main_exp                             0.2656      0.014     19.344      0.000       0.239       0.292\n",
       "min_payment                       1.376e-08   6.76e-09      2.034      0.042    5.01e-10     2.7e-08\n",
       "moral_all                            0.0136      0.004      3.113      0.002       0.005       0.022\n",
       "moral_first                          0.0136      0.004      3.111      0.002       0.005       0.022\n",
       "moral_imp                        -1.176e-15   5.64e-16     -2.084      0.037   -2.28e-15   -6.96e-17\n",
       "moral_non                        -1.259e-16   2.14e-17     -5.872      0.000   -1.68e-16   -8.39e-17\n",
       "moral_rel                            0.0136      0.004      3.111      0.002       0.005       0.022\n",
       "moral_repeated                    -1.37e-16   8.39e-17     -1.633      0.103   -3.01e-16    2.75e-17\n",
       "muslim                              -0.0139      0.018     -0.757      0.449      -0.050       0.022\n",
       "outstanding                      -1.313e-07   9.05e-08     -1.450      0.147   -3.09e-07    4.62e-08\n",
       "p_usage_next1month                  -0.1348      0.011    -12.152      0.000      -0.157      -0.113\n",
       "poor_credit_history                  0.1734      0.012     14.640      0.000       0.150       0.197\n",
       "province                            -0.0002      0.001     -0.238      0.812      -0.002       0.001\n",
       "randomcardnumber                   8.32e-15   1.69e-14      0.493      0.622   -2.47e-14    4.14e-14\n",
       "religious_plac                       0.0705      0.011      6.331      0.000       0.049       0.092\n",
       "repaid_twice_min                    -0.3499      0.021    -16.493      0.000      -0.391      -0.308\n",
       "sample_before                        0.0303      0.020      1.534      0.125      -0.008       0.069\n",
       "savings_account                      0.0196      0.015      1.340      0.180      -0.009       0.048\n",
       "simple_rem                           0.0774      0.011      6.909      0.000       0.055       0.099\n",
       "simple_rem_plus_due_date_message          0          0        nan        nan           0           0\n",
       "wave                                -0.0203      0.007     -2.967      0.003      -0.034      -0.007\n",
       "default_sample                       0.2655      0.014     19.342      0.000       0.239       0.292\n",
       "weight                            7.504e-05      0.008      0.009      0.993      -0.016       0.016\n",
       "prediction                           0.5094      0.251      2.027      0.043       0.017       1.002\n",
       "high_credit_risk                     0.0781      0.011      7.281      0.000       0.057       0.099\n",
       "low_credit_risk                      0.1874      0.011     17.256      0.000       0.166       0.209\n",
       "religious_province                  -0.0236      0.015     -1.555      0.120      -0.053       0.006\n",
       "high_credit_risk_50                 -0.0474      0.015     -3.106      0.002      -0.077      -0.017\n",
       "high_credit_risk_75                  0.0183      0.017      1.080      0.280      -0.015       0.052\n",
       "high_credit_risk_90                  0.0781      0.011      7.281      0.000       0.057       0.099\n",
       "high_credit_risk_95                 -0.0383      0.032     -1.201      0.230      -0.101       0.024\n",
       "==============================================================================\n",
       "Omnibus:                      100.247   Durbin-Watson:                   2.010\n",
       "Prob(Omnibus):                  0.000   Jarque-Bera (JB):              105.686\n",
       "Skew:                          -0.281   Prob(JB):                     1.12e-23\n",
       "Kurtosis:                       3.219   Cond. No.                     2.70e+16\n",
       "==============================================================================\n",
       "\n",
       "Warnings:\n",
       "[1] Standard Errors assume that the covariance matrix of the errors is correctly specified.\n",
       "[2] The condition number is large, 2.7e+16. This might indicate that there are\n",
       "strong multicollinearity or other numerical problems.\n",
       "\"\"\""
      ]
     },
     "execution_count": 12,
     "metadata": {},
     "output_type": "execute_result"
    }
   ],
   "source": [
    "results_del = sm.OLS(y_del,x_data_del).fit()\n",
    "results_del.summary()"
   ]
  },
  {
   "cell_type": "markdown",
   "metadata": {
    "colab_type": "text",
    "id": "71Xdc9Q6BVar"
   },
   "source": [
    "## No 2\n",
    "How many customers are being delinquent repeatedly for more than twice?\n",
    "\n",
    "---\n",
    "Berdasarkan random credit number, maka terdapat 1 customer yang delinquent sebanyak lebih dari 2 kali\n"
   ]
  },
  {
   "cell_type": "code",
   "execution_count": 13,
   "metadata": {
    "colab": {
     "base_uri": "https://localhost:8080/",
     "height": 69
    },
    "colab_type": "code",
    "id": "V0LJLSSDGVn6",
    "outputId": "d1443647-404d-45b8-f81b-577fe88ea00a"
   },
   "outputs": [
    {
     "data": {
      "text/plain": [
       "randomcardnumber\n",
       "256274000075    3\n",
       "Name: delinquent, dtype: int64"
      ]
     },
     "execution_count": 13,
     "metadata": {},
     "output_type": "execute_result"
    }
   ],
   "source": [
    "df_2 = df.copy()\n",
    "df_2 = df_2.groupby('randomcardnumber')['delinquent'].sum().loc[lambda p: p > 2]\n",
    "df_2"
   ]
  },
  {
   "cell_type": "markdown",
   "metadata": {
    "colab_type": "text",
    "id": "3l3T9cJkBapa"
   },
   "source": [
    "## No 3\n",
    "How is the profile of the default customer?\n",
    "\n",
    "---\n",
    "\n"
   ]
  },
  {
   "cell_type": "code",
   "execution_count": 14,
   "metadata": {
    "colab": {},
    "colab_type": "code",
    "id": "oTGK3eQJwKJK"
   },
   "outputs": [],
   "source": [
    "df_3 = df.copy()"
   ]
  },
  {
   "cell_type": "code",
   "execution_count": 15,
   "metadata": {
    "colab": {
     "base_uri": "https://localhost:8080/",
     "height": 1000
    },
    "colab_type": "code",
    "id": "GmMoBg0jC8nX",
    "outputId": "91eb841c-7253-4361-c497-bc61f937f313"
   },
   "outputs": [
    {
     "data": {
      "text/plain": [
       "<matplotlib.axes._subplots.AxesSubplot at 0x2b13589f5c8>"
      ]
     },
     "execution_count": 15,
     "metadata": {},
     "output_type": "execute_result"
    },
    {
     "data": {
      "image/png": "[encoded data removed]",
      "text/plain": [
       "<Figure size 1440x2160 with 1 Axes>"
      ]
     },
     "metadata": {
      "needs_background": "light"
     },
     "output_type": "display_data"
    }
   ],
   "source": [
    "plt.figure(figsize=(20,30))\n",
    "sns.barplot(y=df_3.province_name, x=df_3.default, hue=df_3.female)"
   ]
  },
  {
   "cell_type": "code",
   "execution_count": 16,
   "metadata": {
    "colab": {
     "base_uri": "https://localhost:8080/",
     "height": 351
    },
    "colab_type": "code",
    "id": "qcpw7-OLluut",
    "outputId": "47184238-965a-4505-c820-f28814d171e9"
   },
   "outputs": [
    {
     "data": {
      "text/plain": [
       "<matplotlib.axes._subplots.AxesSubplot at 0x2b136cb2308>"
      ]
     },
     "execution_count": 16,
     "metadata": {},
     "output_type": "execute_result"
    },
    {
     "data": {
      "image/png": "[encoded data removed]",
      "text/plain": [
       "<Figure size 360x360 with 1 Axes>"
      ]
     },
     "metadata": {
      "needs_background": "light"
     },
     "output_type": "display_data"
    }
   ],
   "source": [
    "plt.figure(figsize=(5,5))\n",
    "sns.boxplot(y=df_3.age, x=df_3.default)"
   ]
  },
  {
   "cell_type": "code",
   "execution_count": 17,
   "metadata": {
    "colab": {
     "base_uri": "https://localhost:8080/",
     "height": 141
    },
    "colab_type": "code",
    "id": "3D5puD9cl-ut",
    "outputId": "0672ab54-e69a-4615-f943-1bfa47a1f32d"
   },
   "outputs": [
    {
     "data": {
      "text/html": [
       "<div>\n",
       "<style scoped>\n",
       "    .dataframe tbody tr th:only-of-type {\n",
       "        vertical-align: middle;\n",
       "    }\n",
       "\n",
       "    .dataframe tbody tr th {\n",
       "        vertical-align: top;\n",
       "    }\n",
       "\n",
       "    .dataframe thead th {\n",
       "        text-align: right;\n",
       "    }\n",
       "</style>\n",
       "<table border=\"1\" class=\"dataframe\">\n",
       "  <thead>\n",
       "    <tr style=\"text-align: right;\">\n",
       "      <th></th>\n",
       "      <th>default</th>\n",
       "    </tr>\n",
       "    <tr>\n",
       "      <th>poor_credit_history</th>\n",
       "      <th></th>\n",
       "    </tr>\n",
       "  </thead>\n",
       "  <tbody>\n",
       "    <tr>\n",
       "      <th>0</th>\n",
       "      <td>4638</td>\n",
       "    </tr>\n",
       "    <tr>\n",
       "      <th>1</th>\n",
       "      <td>2341</td>\n",
       "    </tr>\n",
       "  </tbody>\n",
       "</table>\n",
       "</div>"
      ],
      "text/plain": [
       "                     default\n",
       "poor_credit_history         \n",
       "0                       4638\n",
       "1                       2341"
      ]
     },
     "execution_count": 17,
     "metadata": {},
     "output_type": "execute_result"
    }
   ],
   "source": [
    "df_31 = df_3[['poor_credit_history', 'default']]\n",
    "df_31 = df_31.groupby('poor_credit_history').count()\n",
    "df_31"
   ]
  },
  {
   "cell_type": "code",
   "execution_count": 18,
   "metadata": {
    "colab": {
     "base_uri": "https://localhost:8080/",
     "height": 141
    },
    "colab_type": "code",
    "id": "mldGg_vVv9mz",
    "outputId": "5fa1aaa1-0c75-4e1b-b5b9-2851dfa56240"
   },
   "outputs": [
    {
     "data": {
      "text/html": [
       "<div>\n",
       "<style scoped>\n",
       "    .dataframe tbody tr th:only-of-type {\n",
       "        vertical-align: middle;\n",
       "    }\n",
       "\n",
       "    .dataframe tbody tr th {\n",
       "        vertical-align: top;\n",
       "    }\n",
       "\n",
       "    .dataframe thead th {\n",
       "        text-align: right;\n",
       "    }\n",
       "</style>\n",
       "<table border=\"1\" class=\"dataframe\">\n",
       "  <thead>\n",
       "    <tr style=\"text-align: right;\">\n",
       "      <th></th>\n",
       "      <th>default</th>\n",
       "    </tr>\n",
       "    <tr>\n",
       "      <th>muslim</th>\n",
       "      <th></th>\n",
       "    </tr>\n",
       "  </thead>\n",
       "  <tbody>\n",
       "    <tr>\n",
       "      <th>0</th>\n",
       "      <td>565</td>\n",
       "    </tr>\n",
       "    <tr>\n",
       "      <th>1</th>\n",
       "      <td>6414</td>\n",
       "    </tr>\n",
       "  </tbody>\n",
       "</table>\n",
       "</div>"
      ],
      "text/plain": [
       "        default\n",
       "muslim         \n",
       "0           565\n",
       "1          6414"
      ]
     },
     "execution_count": 18,
     "metadata": {},
     "output_type": "execute_result"
    }
   ],
   "source": [
    "df_muslim = df_3[['muslim', 'default']]\n",
    "df_muslim = df_muslim.groupby('muslim').count()\n",
    "df_muslim"
   ]
  },
  {
   "cell_type": "code",
   "execution_count": 19,
   "metadata": {
    "colab": {
     "base_uri": "https://localhost:8080/",
     "height": 171
    },
    "colab_type": "code",
    "id": "2fi22d7lxQoJ",
    "outputId": "259e128f-3517-4cb3-d3b6-48efb59faa03"
   },
   "outputs": [
    {
     "data": {
      "text/html": [
       "<div>\n",
       "<style scoped>\n",
       "    .dataframe tbody tr th:only-of-type {\n",
       "        vertical-align: middle;\n",
       "    }\n",
       "\n",
       "    .dataframe tbody tr th {\n",
       "        vertical-align: top;\n",
       "    }\n",
       "\n",
       "    .dataframe thead th {\n",
       "        text-align: right;\n",
       "    }\n",
       "</style>\n",
       "<table border=\"1\" class=\"dataframe\">\n",
       "  <thead>\n",
       "    <tr style=\"text-align: right;\">\n",
       "      <th></th>\n",
       "      <th>default</th>\n",
       "    </tr>\n",
       "    <tr>\n",
       "      <th>wave</th>\n",
       "      <th></th>\n",
       "    </tr>\n",
       "  </thead>\n",
       "  <tbody>\n",
       "    <tr>\n",
       "      <th>1</th>\n",
       "      <td>2476</td>\n",
       "    </tr>\n",
       "    <tr>\n",
       "      <th>2</th>\n",
       "      <td>2683</td>\n",
       "    </tr>\n",
       "    <tr>\n",
       "      <th>3</th>\n",
       "      <td>1820</td>\n",
       "    </tr>\n",
       "  </tbody>\n",
       "</table>\n",
       "</div>"
      ],
      "text/plain": [
       "      default\n",
       "wave         \n",
       "1        2476\n",
       "2        2683\n",
       "3        1820"
      ]
     },
     "execution_count": 19,
     "metadata": {},
     "output_type": "execute_result"
    }
   ],
   "source": [
    "df_wave = df_3[['wave', 'default']]\n",
    "df_wave = df_wave.groupby('wave').count()\n",
    "df_wave"
   ]
  },
  {
   "cell_type": "code",
   "execution_count": 20,
   "metadata": {
    "colab": {
     "base_uri": "https://localhost:8080/",
     "height": 141
    },
    "colab_type": "code",
    "id": "qdU1bL5JxwKg",
    "outputId": "ab9d8033-c8a4-479d-e72c-0d90f91e1c1b"
   },
   "outputs": [
    {
     "data": {
      "text/html": [
       "<div>\n",
       "<style scoped>\n",
       "    .dataframe tbody tr th:only-of-type {\n",
       "        vertical-align: middle;\n",
       "    }\n",
       "\n",
       "    .dataframe tbody tr th {\n",
       "        vertical-align: top;\n",
       "    }\n",
       "\n",
       "    .dataframe thead th {\n",
       "        text-align: right;\n",
       "    }\n",
       "</style>\n",
       "<table border=\"1\" class=\"dataframe\">\n",
       "  <thead>\n",
       "    <tr style=\"text-align: right;\">\n",
       "      <th></th>\n",
       "      <th>default</th>\n",
       "    </tr>\n",
       "    <tr>\n",
       "      <th>sample_before</th>\n",
       "      <th></th>\n",
       "    </tr>\n",
       "  </thead>\n",
       "  <tbody>\n",
       "    <tr>\n",
       "      <th>0</th>\n",
       "      <td>6489</td>\n",
       "    </tr>\n",
       "    <tr>\n",
       "      <th>1</th>\n",
       "      <td>490</td>\n",
       "    </tr>\n",
       "  </tbody>\n",
       "</table>\n",
       "</div>"
      ],
      "text/plain": [
       "               default\n",
       "sample_before         \n",
       "0                 6489\n",
       "1                  490"
      ]
     },
     "execution_count": 20,
     "metadata": {},
     "output_type": "execute_result"
    }
   ],
   "source": [
    "df_sb = df_3[['sample_before', 'default']]\n",
    "df_sb = df_sb.groupby('sample_before').count()\n",
    "df_sb"
   ]
  },
  {
   "cell_type": "markdown",
   "metadata": {
    "colab_type": "text",
    "id": "VRPero6mBdH_"
   },
   "source": [
    "##No 4\n",
    "How is the profile of predicted high-risk customers?\n",
    "\n",
    "---\n",
    "\n"
   ]
  },
  {
   "cell_type": "code",
   "execution_count": 21,
   "metadata": {
    "colab": {},
    "colab_type": "code",
    "id": "o3DUgntKC9DT"
   },
   "outputs": [],
   "source": [
    "df_4 = df.copy()"
   ]
  },
  {
   "cell_type": "code",
   "execution_count": 22,
   "metadata": {
    "colab": {
     "base_uri": "https://localhost:8080/",
     "height": 1000
    },
    "colab_type": "code",
    "id": "xAAiHIsxyyFp",
    "outputId": "c05bcaef-c79a-447b-c19b-5168bcf94868"
   },
   "outputs": [
    {
     "data": {
      "text/plain": [
       "<matplotlib.axes._subplots.AxesSubplot at 0x2b13b768b08>"
      ]
     },
     "execution_count": 22,
     "metadata": {},
     "output_type": "execute_result"
    },
    {
     "data": {
      "image/png": "[encoded data removed]",
      "text/plain": [
       "<Figure size 1440x2160 with 1 Axes>"
      ]
     },
     "metadata": {
      "needs_background": "light"
     },
     "output_type": "display_data"
    }
   ],
   "source": [
    "plt.figure(figsize=(20,30))\n",
    "sns.barplot(y=df_4.province_name, x=df_4.high_credit_risk, hue=df_4.female)"
   ]
  },
  {
   "cell_type": "code",
   "execution_count": 23,
   "metadata": {
    "colab": {
     "base_uri": "https://localhost:8080/",
     "height": 353
    },
    "colab_type": "code",
    "id": "a4vlDKQRyydv",
    "outputId": "26924fcb-ad49-4f65-96cf-80eae15c6591"
   },
   "outputs": [
    {
     "data": {
      "text/plain": [
       "<matplotlib.axes._subplots.AxesSubplot at 0x2b13b990688>"
      ]
     },
     "execution_count": 23,
     "metadata": {},
     "output_type": "execute_result"
    },
    {
     "data": {
      "image/png": "[encoded data removed]",
      "text/plain": [
       "<Figure size 360x360 with 1 Axes>"
      ]
     },
     "metadata": {
      "needs_background": "light"
     },
     "output_type": "display_data"
    }
   ],
   "source": [
    "plt.figure(figsize=(5,5))\n",
    "sns.boxplot(y=df_4.age, x=df_4.high_credit_risk)"
   ]
  },
  {
   "cell_type": "code",
   "execution_count": 24,
   "metadata": {
    "colab": {
     "base_uri": "https://localhost:8080/",
     "height": 141
    },
    "colab_type": "code",
    "id": "kLPUvEInyyk8",
    "outputId": "c82debb6-ab01-4721-e229-a5fab196934a"
   },
   "outputs": [
    {
     "data": {
      "text/html": [
       "<div>\n",
       "<style scoped>\n",
       "    .dataframe tbody tr th:only-of-type {\n",
       "        vertical-align: middle;\n",
       "    }\n",
       "\n",
       "    .dataframe tbody tr th {\n",
       "        vertical-align: top;\n",
       "    }\n",
       "\n",
       "    .dataframe thead th {\n",
       "        text-align: right;\n",
       "    }\n",
       "</style>\n",
       "<table border=\"1\" class=\"dataframe\">\n",
       "  <thead>\n",
       "    <tr style=\"text-align: right;\">\n",
       "      <th></th>\n",
       "      <th>high_credit_risk</th>\n",
       "    </tr>\n",
       "    <tr>\n",
       "      <th>poor_credit_history</th>\n",
       "      <th></th>\n",
       "    </tr>\n",
       "  </thead>\n",
       "  <tbody>\n",
       "    <tr>\n",
       "      <th>0</th>\n",
       "      <td>4638</td>\n",
       "    </tr>\n",
       "    <tr>\n",
       "      <th>1</th>\n",
       "      <td>2341</td>\n",
       "    </tr>\n",
       "  </tbody>\n",
       "</table>\n",
       "</div>"
      ],
      "text/plain": [
       "                     high_credit_risk\n",
       "poor_credit_history                  \n",
       "0                                4638\n",
       "1                                2341"
      ]
     },
     "execution_count": 24,
     "metadata": {},
     "output_type": "execute_result"
    }
   ],
   "source": [
    "df_41 = df_4[['poor_credit_history', 'high_credit_risk']]\n",
    "df_41 = df_41.groupby('poor_credit_history').count()\n",
    "df_41"
   ]
  },
  {
   "cell_type": "code",
   "execution_count": 25,
   "metadata": {
    "colab": {
     "base_uri": "https://localhost:8080/",
     "height": 141
    },
    "colab_type": "code",
    "id": "Xj8yh9PKyyiO",
    "outputId": "abf14857-87ca-45be-fbca-3b72c2662c24"
   },
   "outputs": [
    {
     "data": {
      "text/html": [
       "<div>\n",
       "<style scoped>\n",
       "    .dataframe tbody tr th:only-of-type {\n",
       "        vertical-align: middle;\n",
       "    }\n",
       "\n",
       "    .dataframe tbody tr th {\n",
       "        vertical-align: top;\n",
       "    }\n",
       "\n",
       "    .dataframe thead th {\n",
       "        text-align: right;\n",
       "    }\n",
       "</style>\n",
       "<table border=\"1\" class=\"dataframe\">\n",
       "  <thead>\n",
       "    <tr style=\"text-align: right;\">\n",
       "      <th></th>\n",
       "      <th>high_credit_risk</th>\n",
       "    </tr>\n",
       "    <tr>\n",
       "      <th>muslim</th>\n",
       "      <th></th>\n",
       "    </tr>\n",
       "  </thead>\n",
       "  <tbody>\n",
       "    <tr>\n",
       "      <th>0</th>\n",
       "      <td>565</td>\n",
       "    </tr>\n",
       "    <tr>\n",
       "      <th>1</th>\n",
       "      <td>6414</td>\n",
       "    </tr>\n",
       "  </tbody>\n",
       "</table>\n",
       "</div>"
      ],
      "text/plain": [
       "        high_credit_risk\n",
       "muslim                  \n",
       "0                    565\n",
       "1                   6414"
      ]
     },
     "execution_count": 25,
     "metadata": {},
     "output_type": "execute_result"
    }
   ],
   "source": [
    "df_muslim_4 = df_4[['muslim', 'high_credit_risk']]\n",
    "df_muslim_4 = df_muslim_4.groupby('muslim').count()\n",
    "df_muslim_4"
   ]
  },
  {
   "cell_type": "code",
   "execution_count": 26,
   "metadata": {
    "colab": {
     "base_uri": "https://localhost:8080/",
     "height": 171
    },
    "colab_type": "code",
    "id": "CWD86ii70Nwg",
    "outputId": "36f2169c-dbe6-48a0-d852-de767bdec256"
   },
   "outputs": [
    {
     "data": {
      "text/html": [
       "<div>\n",
       "<style scoped>\n",
       "    .dataframe tbody tr th:only-of-type {\n",
       "        vertical-align: middle;\n",
       "    }\n",
       "\n",
       "    .dataframe tbody tr th {\n",
       "        vertical-align: top;\n",
       "    }\n",
       "\n",
       "    .dataframe thead th {\n",
       "        text-align: right;\n",
       "    }\n",
       "</style>\n",
       "<table border=\"1\" class=\"dataframe\">\n",
       "  <thead>\n",
       "    <tr style=\"text-align: right;\">\n",
       "      <th></th>\n",
       "      <th>high_credit_risk</th>\n",
       "    </tr>\n",
       "    <tr>\n",
       "      <th>wave</th>\n",
       "      <th></th>\n",
       "    </tr>\n",
       "  </thead>\n",
       "  <tbody>\n",
       "    <tr>\n",
       "      <th>1</th>\n",
       "      <td>2476</td>\n",
       "    </tr>\n",
       "    <tr>\n",
       "      <th>2</th>\n",
       "      <td>2683</td>\n",
       "    </tr>\n",
       "    <tr>\n",
       "      <th>3</th>\n",
       "      <td>1820</td>\n",
       "    </tr>\n",
       "  </tbody>\n",
       "</table>\n",
       "</div>"
      ],
      "text/plain": [
       "      high_credit_risk\n",
       "wave                  \n",
       "1                 2476\n",
       "2                 2683\n",
       "3                 1820"
      ]
     },
     "execution_count": 26,
     "metadata": {},
     "output_type": "execute_result"
    }
   ],
   "source": [
    "df_wave_4 = df_4[['wave', 'high_credit_risk']]\n",
    "df_wave_4 = df_wave_4.groupby('wave').count()\n",
    "df_wave_4"
   ]
  },
  {
   "cell_type": "code",
   "execution_count": 27,
   "metadata": {
    "colab": {
     "base_uri": "https://localhost:8080/",
     "height": 141
    },
    "colab_type": "code",
    "id": "jmhd3P7U0iAg",
    "outputId": "357dbe2e-1cd2-404d-96c7-d855a68688cf"
   },
   "outputs": [
    {
     "data": {
      "text/html": [
       "<div>\n",
       "<style scoped>\n",
       "    .dataframe tbody tr th:only-of-type {\n",
       "        vertical-align: middle;\n",
       "    }\n",
       "\n",
       "    .dataframe tbody tr th {\n",
       "        vertical-align: top;\n",
       "    }\n",
       "\n",
       "    .dataframe thead th {\n",
       "        text-align: right;\n",
       "    }\n",
       "</style>\n",
       "<table border=\"1\" class=\"dataframe\">\n",
       "  <thead>\n",
       "    <tr style=\"text-align: right;\">\n",
       "      <th></th>\n",
       "      <th>high_credit_risk</th>\n",
       "    </tr>\n",
       "    <tr>\n",
       "      <th>sample_before</th>\n",
       "      <th></th>\n",
       "    </tr>\n",
       "  </thead>\n",
       "  <tbody>\n",
       "    <tr>\n",
       "      <th>0</th>\n",
       "      <td>6489</td>\n",
       "    </tr>\n",
       "    <tr>\n",
       "      <th>1</th>\n",
       "      <td>490</td>\n",
       "    </tr>\n",
       "  </tbody>\n",
       "</table>\n",
       "</div>"
      ],
      "text/plain": [
       "               high_credit_risk\n",
       "sample_before                  \n",
       "0                          6489\n",
       "1                           490"
      ]
     },
     "execution_count": 27,
     "metadata": {},
     "output_type": "execute_result"
    }
   ],
   "source": [
    "df_sb_4 = df_4[['sample_before', 'high_credit_risk']]\n",
    "df_sb_4 = df_sb_4.groupby('sample_before').count()\n",
    "df_sb_4"
   ]
  },
  {
   "cell_type": "markdown",
   "metadata": {
    "colab_type": "text",
    "id": "G22bEmmOBgMY"
   },
   "source": [
    "## No 5\n",
    "Do you think, the default customers are the ones who are financially not able to pay their\n",
    "debt? Please explain your answer!\n",
    "\n",
    "---\n",
    "\n"
   ]
  },
  {
   "cell_type": "code",
   "execution_count": 28,
   "metadata": {
    "colab": {
     "base_uri": "https://localhost:8080/",
     "height": 141
    },
    "colab_type": "code",
    "id": "9JBMgliAL0P0",
    "outputId": "92bcda37-f0f4-41bb-cf32-455135301e87"
   },
   "outputs": [
    {
     "data": {
      "text/html": [
       "<div>\n",
       "<style scoped>\n",
       "    .dataframe tbody tr th:only-of-type {\n",
       "        vertical-align: middle;\n",
       "    }\n",
       "\n",
       "    .dataframe tbody tr th {\n",
       "        vertical-align: top;\n",
       "    }\n",
       "\n",
       "    .dataframe thead th {\n",
       "        text-align: right;\n",
       "    }\n",
       "</style>\n",
       "<table border=\"1\" class=\"dataframe\">\n",
       "  <thead>\n",
       "    <tr style=\"text-align: right;\">\n",
       "      <th></th>\n",
       "      <th>default</th>\n",
       "    </tr>\n",
       "    <tr>\n",
       "      <th>delinquent</th>\n",
       "      <th></th>\n",
       "    </tr>\n",
       "  </thead>\n",
       "  <tbody>\n",
       "    <tr>\n",
       "      <th>0</th>\n",
       "      <td>2642</td>\n",
       "    </tr>\n",
       "    <tr>\n",
       "      <th>1</th>\n",
       "      <td>4337</td>\n",
       "    </tr>\n",
       "  </tbody>\n",
       "</table>\n",
       "</div>"
      ],
      "text/plain": [
       "            default\n",
       "delinquent         \n",
       "0              2642\n",
       "1              4337"
      ]
     },
     "execution_count": 28,
     "metadata": {},
     "output_type": "execute_result"
    }
   ],
   "source": [
    "df_5 = df.copy()\n",
    "df_5 = df_5[['delinquent', 'default']]\n",
    "df_5 = df_5.groupby('delinquent').count()\n",
    "df_5"
   ]
  },
  {
   "cell_type": "markdown",
   "metadata": {
    "colab_type": "text",
    "id": "y7IPU0q4N6sK"
   },
   "source": [
    "# **Data Preprocessing**"
   ]
  },
  {
   "cell_type": "markdown",
   "metadata": {
    "colab_type": "text",
    "id": "ZzJ4IBfQlNLS"
   },
   "source": [
    "## Periksa Missing Value"
   ]
  },
  {
   "cell_type": "code",
   "execution_count": 29,
   "metadata": {
    "colab": {
     "base_uri": "https://localhost:8080/",
     "height": 973
    },
    "colab_type": "code",
    "id": "4sokUWes74vZ",
    "outputId": "be7e19d2-9b20-4ebe-8ba7-91f9cec038c1"
   },
   "outputs": [
    {
     "name": "stdout",
     "output_type": "stream",
     "text": [
      "Collecting jcopml\n",
      "  Downloading jcopml-1.1.10.tar.gz (20 kB)\n",
      "Requirement already satisfied: numpy in d:\\miniconda3\\lib\\site-packages (from jcopml) (1.18.5)\n",
      "Note: you may need to restart the kernel to use updated packages.Requirement already satisfied: scipy in d:\\miniconda3\\lib\\site-packages (from jcopml) (1.5.0)\n",
      "Requirement already satisfied: pandas in d:\\miniconda3\\lib\\site-packages (from jcopml) (1.0.5)\n",
      "Requirement already satisfied: scikit-learn in d:\\miniconda3\\lib\\site-packages (from jcopml) (0.23.1)\n",
      "Requirement already satisfied: matplotlib in d:\\miniconda3\\lib\\site-packages (from jcopml) (3.2.2)\n",
      "Requirement already satisfied: seaborn in d:\\miniconda3\\lib\\site-packages (from jcopml) (0.10.1)\n",
      "Collecting scikit-optimize\n",
      "  Downloading scikit_optimize-0.7.4-py2.py3-none-any.whl (80 kB)\n",
      "Requirement already satisfied: ipywidgets in d:\\miniconda3\\lib\\site-packages (from jcopml) (7.5.1)\n",
      "\n",
      "Requirement already satisfied: statsmodels in d:\\miniconda3\\lib\\site-packages (from jcopml) (0.11.1)\n",
      "Requirement already satisfied: python-dateutil>=2.6.1 in d:\\miniconda3\\lib\\site-packages (from pandas->jcopml) (2.8.1)\n",
      "Requirement already satisfied: pytz>=2017.2 in d:\\miniconda3\\lib\\site-packages (from pandas->jcopml) (2020.1)\n",
      "Requirement already satisfied: threadpoolctl>=2.0.0 in d:\\miniconda3\\lib\\site-packages (from scikit-learn->jcopml) (2.1.0)\n",
      "Requirement already satisfied: joblib>=0.11 in d:\\miniconda3\\lib\\site-packages (from scikit-learn->jcopml) (0.16.0)\n",
      "Requirement already satisfied: kiwisolver>=1.0.1 in d:\\miniconda3\\lib\\site-packages (from matplotlib->jcopml) (1.2.0)\n",
      "Requirement already satisfied: cycler>=0.10 in d:\\miniconda3\\lib\\site-packages (from matplotlib->jcopml) (0.10.0)\n",
      "Requirement already satisfied: pyparsing!=2.0.4,!=2.1.2,!=2.1.6,>=2.0.1 in d:\\miniconda3\\lib\\site-packages (from matplotlib->jcopml) (2.4.7)\n",
      "Collecting pyaml>=16.9\n",
      "  Downloading pyaml-20.4.0-py2.py3-none-any.whl (17 kB)\n",
      "Requirement already satisfied: traitlets>=4.3.1 in d:\\miniconda3\\lib\\site-packages (from ipywidgets->jcopml) (4.3.3)\n",
      "Requirement already satisfied: nbformat>=4.2.0 in d:\\miniconda3\\lib\\site-packages (from ipywidgets->jcopml) (5.0.6)\n",
      "Requirement already satisfied: widgetsnbextension~=3.5.0 in d:\\miniconda3\\lib\\site-packages (from ipywidgets->jcopml) (3.5.1)\n",
      "Requirement already satisfied: ipython>=4.0.0; python_version >= \"3.3\" in d:\\miniconda3\\lib\\site-packages (from ipywidgets->jcopml) (7.13.0)\n",
      "Requirement already satisfied: ipykernel>=4.5.1 in d:\\miniconda3\\lib\\site-packages (from ipywidgets->jcopml) (5.1.4)\n",
      "Requirement already satisfied: patsy>=0.5 in d:\\miniconda3\\lib\\site-packages (from statsmodels->jcopml) (0.5.1)\n",
      "Requirement already satisfied: six>=1.5 in d:\\miniconda3\\lib\\site-packages (from python-dateutil>=2.6.1->pandas->jcopml) (1.14.0)\n",
      "Requirement already satisfied: PyYAML in d:\\miniconda3\\lib\\site-packages (from pyaml>=16.9->scikit-optimize->jcopml) (5.3.1)\n",
      "Requirement already satisfied: decorator in d:\\miniconda3\\lib\\site-packages (from traitlets>=4.3.1->ipywidgets->jcopml) (4.4.2)\n",
      "Requirement already satisfied: ipython-genutils in d:\\miniconda3\\lib\\site-packages (from traitlets>=4.3.1->ipywidgets->jcopml) (0.2.0)\n",
      "Requirement already satisfied: jupyter-core in d:\\miniconda3\\lib\\site-packages (from nbformat>=4.2.0->ipywidgets->jcopml) (4.6.3)\n",
      "Requirement already satisfied: jsonschema!=2.5.0,>=2.4 in d:\\miniconda3\\lib\\site-packages (from nbformat>=4.2.0->ipywidgets->jcopml) (3.2.0)\n",
      "Requirement already satisfied: notebook>=4.4.1 in d:\\miniconda3\\lib\\site-packages (from widgetsnbextension~=3.5.0->ipywidgets->jcopml) (6.0.3)\n",
      "Requirement already satisfied: prompt-toolkit!=3.0.0,!=3.0.1,<3.1.0,>=2.0.0 in d:\\miniconda3\\lib\\site-packages (from ipython>=4.0.0; python_version >= \"3.3\"->ipywidgets->jcopml) (3.0.4)\n",
      "Requirement already satisfied: colorama; sys_platform == \"win32\" in d:\\miniconda3\\lib\\site-packages (from ipython>=4.0.0; python_version >= \"3.3\"->ipywidgets->jcopml) (0.4.3)\n",
      "Requirement already satisfied: backcall in d:\\miniconda3\\lib\\site-packages (from ipython>=4.0.0; python_version >= \"3.3\"->ipywidgets->jcopml) (0.1.0)\n",
      "Requirement already satisfied: setuptools>=18.5 in d:\\miniconda3\\lib\\site-packages (from ipython>=4.0.0; python_version >= \"3.3\"->ipywidgets->jcopml) (45.2.0.post20200210)\n",
      "Requirement already satisfied: pygments in d:\\miniconda3\\lib\\site-packages (from ipython>=4.0.0; python_version >= \"3.3\"->ipywidgets->jcopml) (2.6.1)\n",
      "Requirement already satisfied: pickleshare in d:\\miniconda3\\lib\\site-packages (from ipython>=4.0.0; python_version >= \"3.3\"->ipywidgets->jcopml) (0.7.5)\n",
      "Requirement already satisfied: jedi>=0.10 in d:\\miniconda3\\lib\\site-packages (from ipython>=4.0.0; python_version >= \"3.3\"->ipywidgets->jcopml) (0.17.0)\n",
      "Requirement already satisfied: tornado>=4.2 in d:\\miniconda3\\lib\\site-packages (from ipykernel>=4.5.1->ipywidgets->jcopml) (6.0.4)\n",
      "Requirement already satisfied: jupyter-client in d:\\miniconda3\\lib\\site-packages (from ipykernel>=4.5.1->ipywidgets->jcopml) (6.1.3)\n",
      "Requirement already satisfied: pywin32>=1.0; sys_platform == \"win32\" in d:\\miniconda3\\lib\\site-packages (from jupyter-core->nbformat>=4.2.0->ipywidgets->jcopml) (227)\n",
      "Requirement already satisfied: pyrsistent>=0.14.0 in d:\\miniconda3\\lib\\site-packages (from jsonschema!=2.5.0,>=2.4->nbformat>=4.2.0->ipywidgets->jcopml) (0.16.0)\n",
      "Requirement already satisfied: attrs>=17.4.0 in d:\\miniconda3\\lib\\site-packages (from jsonschema!=2.5.0,>=2.4->nbformat>=4.2.0->ipywidgets->jcopml) (19.3.0)\n",
      "Requirement already satisfied: importlib-metadata; python_version < \"3.8\" in d:\\miniconda3\\lib\\site-packages (from jsonschema!=2.5.0,>=2.4->nbformat>=4.2.0->ipywidgets->jcopml) (1.5.0)\n",
      "Requirement already satisfied: Send2Trash in d:\\miniconda3\\lib\\site-packages (from notebook>=4.4.1->widgetsnbextension~=3.5.0->ipywidgets->jcopml) (1.5.0)\n",
      "Requirement already satisfied: nbconvert in d:\\miniconda3\\lib\\site-packages (from notebook>=4.4.1->widgetsnbextension~=3.5.0->ipywidgets->jcopml) (5.6.1)\n",
      "Requirement already satisfied: prometheus-client in d:\\miniconda3\\lib\\site-packages (from notebook>=4.4.1->widgetsnbextension~=3.5.0->ipywidgets->jcopml) (0.7.1)\n",
      "Requirement already satisfied: jinja2 in d:\\miniconda3\\lib\\site-packages (from notebook>=4.4.1->widgetsnbextension~=3.5.0->ipywidgets->jcopml) (2.11.2)\n",
      "Requirement already satisfied: terminado>=0.8.1 in d:\\miniconda3\\lib\\site-packages (from notebook>=4.4.1->widgetsnbextension~=3.5.0->ipywidgets->jcopml) (0.8.3)\n",
      "Requirement already satisfied: pyzmq>=17 in d:\\miniconda3\\lib\\site-packages (from notebook>=4.4.1->widgetsnbextension~=3.5.0->ipywidgets->jcopml) (18.1.1)\n",
      "Requirement already satisfied: wcwidth in d:\\miniconda3\\lib\\site-packages (from prompt-toolkit!=3.0.0,!=3.0.1,<3.1.0,>=2.0.0->ipython>=4.0.0; python_version >= \"3.3\"->ipywidgets->jcopml) (0.1.9)\n",
      "Requirement already satisfied: parso>=0.7.0 in d:\\miniconda3\\lib\\site-packages (from jedi>=0.10->ipython>=4.0.0; python_version >= \"3.3\"->ipywidgets->jcopml) (0.7.0)\n",
      "Requirement already satisfied: zipp>=0.5 in d:\\miniconda3\\lib\\site-packages (from importlib-metadata; python_version < \"3.8\"->jsonschema!=2.5.0,>=2.4->nbformat>=4.2.0->ipywidgets->jcopml) (3.1.0)\n",
      "Requirement already satisfied: pandocfilters>=1.4.1 in d:\\miniconda3\\lib\\site-packages (from nbconvert->notebook>=4.4.1->widgetsnbextension~=3.5.0->ipywidgets->jcopml) (1.4.2)\n",
      "Requirement already satisfied: bleach in d:\\miniconda3\\lib\\site-packages (from nbconvert->notebook>=4.4.1->widgetsnbextension~=3.5.0->ipywidgets->jcopml) (3.1.4)\n",
      "Requirement already satisfied: defusedxml in d:\\miniconda3\\lib\\site-packages (from nbconvert->notebook>=4.4.1->widgetsnbextension~=3.5.0->ipywidgets->jcopml) (0.6.0)\n",
      "Requirement already satisfied: entrypoints>=0.2.2 in d:\\miniconda3\\lib\\site-packages (from nbconvert->notebook>=4.4.1->widgetsnbextension~=3.5.0->ipywidgets->jcopml) (0.3)\n",
      "Requirement already satisfied: mistune<2,>=0.8.1 in d:\\miniconda3\\lib\\site-packages (from nbconvert->notebook>=4.4.1->widgetsnbextension~=3.5.0->ipywidgets->jcopml) (0.8.4)\n",
      "Requirement already satisfied: testpath in d:\\miniconda3\\lib\\site-packages (from nbconvert->notebook>=4.4.1->widgetsnbextension~=3.5.0->ipywidgets->jcopml) (0.4.4)\n",
      "Requirement already satisfied: MarkupSafe>=0.23 in d:\\miniconda3\\lib\\site-packages (from jinja2->notebook>=4.4.1->widgetsnbextension~=3.5.0->ipywidgets->jcopml) (1.1.1)\n",
      "Requirement already satisfied: webencodings in d:\\miniconda3\\lib\\site-packages (from bleach->nbconvert->notebook>=4.4.1->widgetsnbextension~=3.5.0->ipywidgets->jcopml) (0.5.1)\n",
      "Building wheels for collected packages: jcopml\n",
      "  Building wheel for jcopml (setup.py): started\n",
      "  Building wheel for jcopml (setup.py): finished with status 'done'\n",
      "  Created wheel for jcopml: filename=jcopml-1.1.10-py2.py3-none-any.whl size=33236 sha256=7dfa768e15f9daf6e0ed822e94e758b027974bc7be8faf4eb37333f6749863ee\n",
      "  Stored in directory: c:\\users\\wilso\\appdata\\local\\pip\\cache\\wheels\\1e\\b0\\7a\\2e3db99fcf3707a61b80c5193e1155acc8eaf730c510424c6b\n",
      "Successfully built jcopml\n",
      "Installing collected packages: pyaml, scikit-optimize, jcopml\n",
      "Successfully installed jcopml-1.1.10 pyaml-20.4.0 scikit-optimize-0.7.4\n"
     ]
    }
   ],
   "source": [
    "pip install jcopml"
   ]
  },
  {
   "cell_type": "code",
   "execution_count": 30,
   "metadata": {
    "colab": {},
    "colab_type": "code",
    "id": "-ckBB4MXW2c6"
   },
   "outputs": [],
   "source": [
    "from jcopml.plot import plot_missing_value"
   ]
  },
  {
   "cell_type": "code",
   "execution_count": 31,
   "metadata": {
    "colab": {
     "base_uri": "https://localhost:8080/",
     "height": 413
    },
    "colab_type": "code",
    "id": "EbXbu6oBW2_z",
    "outputId": "2563034e-b047-4d00-aaed-28bcb90864b2"
   },
   "outputs": [
    {
     "data": {
      "image/png": "[encoded data removed]",
      "text/plain": [
       "<Figure size 1080x576 with 1 Axes>"
      ]
     },
     "metadata": {
      "needs_background": "light"
     },
     "output_type": "display_data"
    }
   ],
   "source": [
    "plot_missing_value(df)"
   ]
  },
  {
   "cell_type": "markdown",
   "metadata": {
    "colab_type": "text",
    "id": "OoV30VmoOe49"
   },
   "source": [
    "## Heatmap Correlation"
   ]
  },
  {
   "cell_type": "code",
   "execution_count": 32,
   "metadata": {
    "colab": {
     "base_uri": "https://localhost:8080/",
     "height": 405
    },
    "colab_type": "code",
    "id": "WXSPqSl6OgyD",
    "outputId": "79bb4314-a11a-423c-8d7f-61587c3e24e7"
   },
   "outputs": [
    {
     "data": {
      "text/plain": [
       "<matplotlib.axes._subplots.AxesSubplot at 0x2b13bb17b08>"
      ]
     },
     "execution_count": 32,
     "metadata": {},
     "output_type": "execute_result"
    },
    {
     "data": {
      "image/png": "[encoded data removed]",
      "text/plain": [
       "<Figure size 432x288 with 2 Axes>"
      ]
     },
     "metadata": {
      "needs_background": "light"
     },
     "output_type": "display_data"
    }
   ],
   "source": [
    "ax = sns.heatmap(df.corr(), vmin=0, vmax=1)\n",
    "ax"
   ]
  },
  {
   "cell_type": "markdown",
   "metadata": {
    "colab_type": "text",
    "id": "L2kQSGEaftdW"
   },
   "source": [
    "## Drop Columns\n",
    "\n",
    "---\n",
    "Buang kolom yang tidak dipakai untuk model"
   ]
  },
  {
   "cell_type": "code",
   "execution_count": 33,
   "metadata": {
    "colab": {},
    "colab_type": "code",
    "id": "MDZwYJImRbWW"
   },
   "outputs": [],
   "source": [
    "df.drop(['amount_repaid', 'amount_spent_next1month', 'cash_rebate',\n",
    "       'cash_rebate_amount', 'credit_rep_plus_moral_rel',\n",
    "       'credit_rep_version', 'crowding_out_exp',\n",
    "       'debt_to_income', 'debt_to_income_moral', 'delinquent',\n",
    "       'followup_exp', 'late_2016', 'main_exp', 'male',\n",
    "       'male_moral', 'min_payment', 'moral_all', 'moral_first', 'moral_imp',\n",
    "       'moral_non', 'moral_repeated', 'muslim_moral',\n",
    "       'old', 'old_moral', 'outstanding', 'p_usage_next1month','poor_credit_history_moral', 'province_name',\n",
    "       'randomcardnumber',\n",
    "       'repaid_twice_min', 'savings_15', 'savings_18',\n",
    "       'savings_account', 'savings_reduced',\n",
    "       'simple_rem_plus_due_date_message', 'time_lag_first_moral', 'treatment',\n",
    "       'treatment_repeated', 'type_obs', 'treatment_wave1', 'treatment_wave2', 'treatment_wave3', 'treatment_wave4', 'treatment_wave5', 'treatment_wave6', 'default_sample',\n",
    "       'ctrl_extra_weight', 'weight', 'prediction', 'high_credit_risk',\n",
    "       'low_credit_risk', 'religious_province', 'religious_province_moral',\n",
    "       'high_credit_risk_50', 'high_credit_risk_75', 'high_credit_risk_90',\n",
    "       'high_credit_risk_95'], inplace=True, axis=1)"
   ]
  },
  {
   "cell_type": "code",
   "execution_count": 34,
   "metadata": {
    "colab": {
     "base_uri": "https://localhost:8080/",
     "height": 399
    },
    "colab_type": "code",
    "id": "EC4HF61tePG1",
    "outputId": "6ceaf85e-5463-4055-e48a-19a0737b6878"
   },
   "outputs": [
    {
     "name": "stdout",
     "output_type": "stream",
     "text": [
      "<class 'pandas.core.frame.DataFrame'>\n",
      "RangeIndex: 6979 entries, 0 to 6978\n",
      "Data columns (total 15 columns):\n",
      " #   Column               Non-Null Count  Dtype  \n",
      "---  ------               --------------  -----  \n",
      " 0   age                  6979 non-null   float64\n",
      " 1   credit_rep           6979 non-null   int64  \n",
      " 2   creditlimit          6979 non-null   float64\n",
      " 3   ctrl                 6979 non-null   int64  \n",
      " 4   default              6979 non-null   int64  \n",
      " 5   female               6979 non-null   int64  \n",
      " 6   income               6979 non-null   float64\n",
      " 7   moral_rel            6979 non-null   int64  \n",
      " 8   muslim               6979 non-null   int64  \n",
      " 9   poor_credit_history  6979 non-null   int64  \n",
      " 10  province             6979 non-null   int64  \n",
      " 11  religious_plac       6979 non-null   int64  \n",
      " 12  sample_before        6979 non-null   int64  \n",
      " 13  simple_rem           6979 non-null   int64  \n",
      " 14  wave                 6979 non-null   int64  \n",
      "dtypes: float64(3), int64(12)\n",
      "memory usage: 818.0 KB\n"
     ]
    }
   ],
   "source": [
    "df.info()"
   ]
  },
  {
   "cell_type": "markdown",
   "metadata": {
    "colab_type": "text",
    "id": "4vYYHYxlO0HJ"
   },
   "source": [
    "## Heatmap correlation after drop"
   ]
  },
  {
   "cell_type": "code",
   "execution_count": 35,
   "metadata": {
    "colab": {
     "base_uri": "https://localhost:8080/",
     "height": 373
    },
    "colab_type": "code",
    "id": "c-kxVWEDO2Rh",
    "outputId": "6c1ca1da-7f92-4e47-9a7b-a97a5ea6330f"
   },
   "outputs": [
    {
     "data": {
      "text/plain": [
       "<matplotlib.axes._subplots.AxesSubplot at 0x2b130327508>"
      ]
     },
     "execution_count": 35,
     "metadata": {},
     "output_type": "execute_result"
    },
    {
     "data": {
      "image/png": "[encoded data removed]",
      "text/plain": [
       "<Figure size 432x288 with 2 Axes>"
      ]
     },
     "metadata": {
      "needs_background": "light"
     },
     "output_type": "display_data"
    }
   ],
   "source": [
    "ax = sns.heatmap(df.corr(), vmin=0, vmax=1)\n",
    "ax"
   ]
  },
  {
   "cell_type": "markdown",
   "metadata": {
    "colab_type": "text",
    "id": "YMpjRQpklap4"
   },
   "source": [
    "## SMOTE"
   ]
  },
  {
   "cell_type": "code",
   "execution_count": 36,
   "metadata": {
    "colab": {},
    "colab_type": "code",
    "id": "QYZ6DQF9JAQJ"
   },
   "outputs": [],
   "source": [
    "y=df[\"default\"]\n",
    "x=df.drop(columns=\"default\")"
   ]
  },
  {
   "cell_type": "code",
   "execution_count": 37,
   "metadata": {
    "colab": {},
    "colab_type": "code",
    "id": "Z9l-uVwg9hE1"
   },
   "outputs": [],
   "source": [
    "target_col_smote=['default']\n",
    "    \n",
    "##seperating dependent and independent variables on training and testing data\n",
    "cols_smote    = [i for i in df.columns if i not in target_col_smote]"
   ]
  },
  {
   "cell_type": "code",
   "execution_count": 38,
   "metadata": {
    "colab": {
     "base_uri": "https://localhost:8080/",
     "height": 260
    },
    "colab_type": "code",
    "id": "5TrWBYLi99aF",
    "outputId": "bfebe4cd-e7c2-4fa7-8166-92f8198c5cb1"
   },
   "outputs": [
    {
     "data": {
      "text/plain": [
       "['age',\n",
       " 'credit_rep',\n",
       " 'creditlimit',\n",
       " 'ctrl',\n",
       " 'female',\n",
       " 'income',\n",
       " 'moral_rel',\n",
       " 'muslim',\n",
       " 'poor_credit_history',\n",
       " 'province',\n",
       " 'religious_plac',\n",
       " 'sample_before',\n",
       " 'simple_rem',\n",
       " 'wave']"
      ]
     },
     "execution_count": 38,
     "metadata": {},
     "output_type": "execute_result"
    }
   ],
   "source": [
    "cols_smote"
   ]
  },
  {
   "cell_type": "code",
   "execution_count": 83,
   "metadata": {
    "colab": {
     "base_uri": "https://localhost:8080/",
     "height": 141
    },
    "colab_type": "code",
    "id": "2GNxBds9I6hG",
    "outputId": "4c2d5b0b-4fa2-40bb-be35-cb92917f6b26"
   },
   "outputs": [],
   "source": [
    "from imblearn.over_sampling import SMOTE\n",
    "\n",
    "#handle imbalance class using oversampling minority class with smote method\n",
    "os = SMOTE(sampling_strategy='minority',random_state = 123,k_neighbors=5)\n",
    "train_smote_X,train_smote_Y = os.fit_sample(x,y)\n",
    "train_smote_X = pd.DataFrame(data = train_smote_X,columns=cols_smote)\n",
    "train_smote_Y = pd.DataFrame(data = train_smote_Y,columns=target_col_smote)"
   ]
  },
  {
   "cell_type": "markdown",
   "metadata": {
    "colab_type": "text",
    "id": "BG1w82Md60pq"
   },
   "source": [
    "## Split Data"
   ]
  },
  {
   "cell_type": "code",
   "execution_count": 84,
   "metadata": {
    "colab": {},
    "colab_type": "code",
    "id": "ZCuYeBYDJAoU"
   },
   "outputs": [],
   "source": [
    "x_train, x_test, y_train, y_test = train_test_split(train_smote_X, train_smote_Y, test_size=0.25, random_state=42)"
   ]
  },
  {
   "cell_type": "code",
   "execution_count": 85,
   "metadata": {},
   "outputs": [
    {
     "data": {
      "text/plain": [
       "(9816, 14)"
      ]
     },
     "execution_count": 85,
     "metadata": {},
     "output_type": "execute_result"
    }
   ],
   "source": [
    "x_train.shape"
   ]
  },
  {
   "cell_type": "code",
   "execution_count": 86,
   "metadata": {},
   "outputs": [
    {
     "data": {
      "text/plain": [
       "(9816, 1)"
      ]
     },
     "execution_count": 86,
     "metadata": {},
     "output_type": "execute_result"
    }
   ],
   "source": [
    "y_train.shape"
   ]
  },
  {
   "cell_type": "code",
   "execution_count": 88,
   "metadata": {},
   "outputs": [],
   "source": [
    "y_train=y_train.values.ravel()"
   ]
  },
  {
   "cell_type": "markdown",
   "metadata": {
    "colab_type": "text",
    "id": "V0xuPw3SPCpU"
   },
   "source": [
    "# **Model**\n"
   ]
  },
  {
   "cell_type": "markdown",
   "metadata": {
    "colab_type": "text",
    "id": "rqVDQc5K3roO"
   },
   "source": [
    "## KNN + Tuning"
   ]
  },
  {
   "cell_type": "markdown",
   "metadata": {
    "colab_type": "text",
    "id": "iex5yfCAwwP7"
   },
   "source": []
  },
  {
   "cell_type": "markdown",
   "metadata": {
    "colab_type": "text",
    "id": "B58fYI5CJDYc"
   },
   "source": [
    "### KNN biasa"
   ]
  },
  {
   "cell_type": "code",
   "execution_count": 89,
   "metadata": {
    "colab": {
     "base_uri": "https://localhost:8080/",
     "height": 124
    },
    "colab_type": "code",
    "id": "vu87_8fQC_0D",
    "outputId": "3fd17145-c349-42a1-d0ee-1042fbbe51e1"
   },
   "outputs": [
    {
     "data": {
      "text/plain": [
       "KNeighborsClassifier()"
      ]
     },
     "execution_count": 89,
     "metadata": {},
     "output_type": "execute_result"
    }
   ],
   "source": [
    "kneigh= KNeighborsClassifier(n_neighbors=5)\n",
    "kneigh.fit(x_train,y_train)"
   ]
  },
  {
   "cell_type": "code",
   "execution_count": 90,
   "metadata": {
    "colab": {
     "base_uri": "https://localhost:8080/",
     "height": 35
    },
    "colab_type": "code",
    "id": "JJbGUSnk5jtz",
    "outputId": "93842ec6-160b-42ca-ae83-357b8c6e0c47"
   },
   "outputs": [
    {
     "data": {
      "text/plain": [
       "(0.8777506112469438, 0.8160146699266504)"
      ]
     },
     "execution_count": 90,
     "metadata": {},
     "output_type": "execute_result"
    }
   ],
   "source": [
    "kneigh.score(x_train,y_train), kneigh.score(x_test,y_test)"
   ]
  },
  {
   "cell_type": "code",
   "execution_count": 91,
   "metadata": {
    "colab": {
     "base_uri": "https://localhost:8080/",
     "height": 52
    },
    "colab_type": "code",
    "id": "73RwuMOQ5p5h",
    "outputId": "8a235af5-adaf-4795-e396-b76f01e90d2d"
   },
   "outputs": [
    {
     "data": {
      "text/plain": [
       "array([0.93123209, 0.9226361 , 0.93409742, 0.93696275, 0.93409742,\n",
       "       0.93409742, 0.93696275, 0.93696275, 0.93553009, 0.93687231])"
      ]
     },
     "execution_count": 91,
     "metadata": {},
     "output_type": "execute_result"
    }
   ],
   "source": [
    "kneigh=KNeighborsClassifier(n_neighbors=5)\n",
    "cross_val_score(kneigh,x,y,cv=10)"
   ]
  },
  {
   "cell_type": "code",
   "execution_count": 92,
   "metadata": {
    "colab": {
     "base_uri": "https://localhost:8080/",
     "height": 35
    },
    "colab_type": "code",
    "id": "5AY3LSG45tlF",
    "outputId": "a1d54eca-2d3a-4dc3-eac7-55a3ee22bb09"
   },
   "outputs": [
    {
     "data": {
      "text/plain": [
       "0.9339451106461176"
      ]
     },
     "execution_count": 92,
     "metadata": {},
     "output_type": "execute_result"
    }
   ],
   "source": [
    "cross_val_score(kneigh,x,y,cv=10).mean()"
   ]
  },
  {
   "cell_type": "markdown",
   "metadata": {
    "colab_type": "text",
    "id": "NY9F-oUOJe0C"
   },
   "source": [
    "### Dengan menggunakan data scaled"
   ]
  },
  {
   "cell_type": "code",
   "execution_count": 93,
   "metadata": {
    "colab": {},
    "colab_type": "code",
    "id": "CtguFnSg5wYW"
   },
   "outputs": [],
   "source": [
    "scaler=MinMaxScaler()\n",
    "scaler.fit(x_train)\n",
    "\n",
    "x_train_scaled=scaler.transform(x_train)\n",
    "x_test_scaled=scaler.transform(x_test)"
   ]
  },
  {
   "cell_type": "code",
   "execution_count": 94,
   "metadata": {
    "colab": {
     "base_uri": "https://localhost:8080/",
     "height": 124
    },
    "colab_type": "code",
    "id": "cZj4WDSu5yJc",
    "outputId": "85f8154d-adcd-4cf8-8677-cb8f13d7c813"
   },
   "outputs": [
    {
     "data": {
      "text/plain": [
       "KNeighborsClassifier()"
      ]
     },
     "execution_count": 94,
     "metadata": {},
     "output_type": "execute_result"
    }
   ],
   "source": [
    "kneigh=KNeighborsClassifier(n_neighbors=5)\n",
    "kneigh.fit(x_train_scaled,y_train)"
   ]
  },
  {
   "cell_type": "code",
   "execution_count": 95,
   "metadata": {
    "colab": {
     "base_uri": "https://localhost:8080/",
     "height": 35
    },
    "colab_type": "code",
    "id": "YR2-OiTE5yTw",
    "outputId": "a8df65da-9a1c-44b3-caa5-7c50ab4a474d"
   },
   "outputs": [
    {
     "data": {
      "text/plain": [
       "(0.9328647106764466, 0.906479217603912)"
      ]
     },
     "execution_count": 95,
     "metadata": {},
     "output_type": "execute_result"
    }
   ],
   "source": [
    "kneigh.score(x_train_scaled,y_train),kneigh.score(x_test_scaled,y_test)"
   ]
  },
  {
   "cell_type": "code",
   "execution_count": 96,
   "metadata": {
    "colab": {
     "base_uri": "https://localhost:8080/",
     "height": 263
    },
    "colab_type": "code",
    "id": "qbfAOp525yam",
    "outputId": "29a25c15-87c2-469d-c03a-f6b8de3c11c2"
   },
   "outputs": [
    {
     "name": "stdout",
     "output_type": "stream",
     "text": [
      "[[1123  562]\n",
      " [  40 1547]]\n",
      "              precision    recall  f1-score   support\n",
      "\n",
      "           0       0.97      0.67      0.79      1685\n",
      "           1       0.73      0.97      0.84      1587\n",
      "\n",
      "    accuracy                           0.82      3272\n",
      "   macro avg       0.85      0.82      0.81      3272\n",
      "weighted avg       0.85      0.82      0.81      3272\n",
      "\n"
     ]
    }
   ],
   "source": [
    "kneigh=KNeighborsClassifier(n_neighbors=5)\n",
    "kneigh.fit(x_train, y_train)\n",
    "pred=kneigh.predict(x_test)\n",
    "\n",
    "print(confusion_matrix(y_test,pred))\n",
    "print(classification_report(y_test,pred))"
   ]
  },
  {
   "cell_type": "markdown",
   "metadata": {
    "colab_type": "text",
    "id": "wQ6JihLV386A"
   },
   "source": [
    "### Tuning n_neighbor tanpa scaling"
   ]
  },
  {
   "cell_type": "code",
   "execution_count": 97,
   "metadata": {
    "colab": {
     "base_uri": "https://localhost:8080/",
     "height": 1000
    },
    "colab_type": "code",
    "id": "4rVihPo03wXo",
    "outputId": "fad6d605-eb5e-4b9d-97c4-8adf1ffdc48c"
   },
   "outputs": [
    {
     "name": "stdout",
     "output_type": "stream",
     "text": [
      "Max test score: 0.8863080684596577\n",
      "n_neighbor: 0\n"
     ]
    },
    {
     "data": {
      "image/png": "[encoded data removed]",
      "text/plain": [
       "<Figure size 432x288 with 1 Axes>"
      ]
     },
     "metadata": {
      "needs_background": "light"
     },
     "output_type": "display_data"
    }
   ],
   "source": [
    "neighbor=range(1,51,2)\n",
    "train_score=[]\n",
    "test_score=[]\n",
    "\n",
    "for k in neighbor:\n",
    "  knn=KNeighborsClassifier(n_neighbors=k)\n",
    "  knn.fit(x_train,y_train)\n",
    "\n",
    "  train_score.append(knn.score(x_train,y_train))\n",
    "  test_score.append(knn.score(x_test,y_test))\n",
    "\n",
    "import matplotlib.pyplot as plt\n",
    "plt.plot(neighbor,train_score,label=\"train\")\n",
    "plt.plot(neighbor, test_score, label=\"test\")\n",
    "plt.legend()\n",
    "\n",
    "maxtestscore=np.max(test_score)\n",
    "argmaxtestscore=np.argmax(test_score)\n",
    "print(\"Max test score:\", maxtestscore)\n",
    "print(\"n_neighbor:\", argmaxtestscore)"
   ]
  },
  {
   "cell_type": "code",
   "execution_count": 50,
   "metadata": {
    "colab": {
     "base_uri": "https://localhost:8080/",
     "height": 263
    },
    "colab_type": "code",
    "id": "peqbyNZ73x2v",
    "outputId": "95cdc4d3-07a4-4de4-cb62-61474ca3046a"
   },
   "outputs": [
    {
     "name": "stderr",
     "output_type": "stream",
     "text": [
      "D:\\Miniconda3\\lib\\site-packages\\ipykernel_launcher.py:2: DataConversionWarning: A column-vector y was passed when a 1d array was expected. Please change the shape of y to (n_samples, ), for example using ravel().\n",
      "  \n"
     ]
    },
    {
     "name": "stdout",
     "output_type": "stream",
     "text": [
      "[[1123  562]\n",
      " [  39 1548]]\n",
      "              precision    recall  f1-score   support\n",
      "\n",
      "           0       0.97      0.67      0.79      1685\n",
      "           1       0.73      0.98      0.84      1587\n",
      "\n",
      "    accuracy                           0.82      3272\n",
      "   macro avg       0.85      0.82      0.81      3272\n",
      "weighted avg       0.85      0.82      0.81      3272\n",
      "\n"
     ]
    }
   ],
   "source": [
    "kneigh=KNeighborsClassifier(n_neighbors=5)\n",
    "kneigh.fit(x_train, y_train)\n",
    "pred=kneigh.predict(x_test)\n",
    "\n",
    "print(confusion_matrix(y_test,pred))\n",
    "print(classification_report(y_test,pred))"
   ]
  },
  {
   "cell_type": "markdown",
   "metadata": {
    "colab_type": "text",
    "id": "A98NDkPm33rw"
   },
   "source": [
    "### Tuning n_neighbor dengan scaling"
   ]
  },
  {
   "cell_type": "code",
   "execution_count": 98,
   "metadata": {
    "colab": {
     "base_uri": "https://localhost:8080/",
     "height": 1000
    },
    "colab_type": "code",
    "id": "orAl7uo-30wO",
    "outputId": "1e34dec3-fd87-4c7f-eda8-a1ad9ad4611b"
   },
   "outputs": [
    {
     "name": "stdout",
     "output_type": "stream",
     "text": [
      "Max test score: 0.9156479217603912\n",
      "n_neighbor: 0\n"
     ]
    },
    {
     "data": {
      "image/png": "[encoded data removed]",
      "text/plain": [
       "<Figure size 432x288 with 1 Axes>"
      ]
     },
     "metadata": {
      "needs_background": "light"
     },
     "output_type": "display_data"
    }
   ],
   "source": [
    "neighbor=range(1,51,2)\n",
    "train_score=[]\n",
    "test_score=[]\n",
    "for k in neighbor:\n",
    "  knn=KNeighborsClassifier(n_neighbors=k)\n",
    "  knn.fit(x_train_scaled,y_train)\n",
    "\n",
    "  train_score.append(knn.score(x_train_scaled,y_train))\n",
    "  test_score.append(knn.score(x_test_scaled,y_test))\n",
    "\n",
    "import matplotlib.pyplot as plt\n",
    "plt.plot(neighbor,train_score,label=\"train\")\n",
    "plt.plot(neighbor, test_score, label=\"test\")\n",
    "plt.legend()\n",
    "\n",
    "maxtestscore=np.max(test_score)\n",
    "argmaxtestscore=np.argmax(test_score)\n",
    "print(\"Max test score:\", maxtestscore)\n",
    "print(\"n_neighbor:\", argmaxtestscore)"
   ]
  },
  {
   "cell_type": "code",
   "execution_count": 99,
   "metadata": {
    "colab": {
     "base_uri": "https://localhost:8080/",
     "height": 263
    },
    "colab_type": "code",
    "id": "AjdiDTeG4BPM",
    "outputId": "7239909f-7148-4426-a134-9b3db52ff697"
   },
   "outputs": [
    {
     "name": "stdout",
     "output_type": "stream",
     "text": [
      "[[1211  474]\n",
      " [  50 1537]]\n",
      "              precision    recall  f1-score   support\n",
      "\n",
      "           0       0.96      0.72      0.82      1685\n",
      "           1       0.76      0.97      0.85      1587\n",
      "\n",
      "    accuracy                           0.84      3272\n",
      "   macro avg       0.86      0.84      0.84      3272\n",
      "weighted avg       0.87      0.84      0.84      3272\n",
      "\n"
     ]
    }
   ],
   "source": [
    "kneigh=KNeighborsClassifier(n_neighbors=3)\n",
    "kneigh.fit(x_train, y_train)\n",
    "pred=kneigh.predict(x_test)\n",
    "\n",
    "print(confusion_matrix(y_test,pred))\n",
    "print(classification_report(y_test,pred))"
   ]
  },
  {
   "cell_type": "markdown",
   "metadata": {
    "colab_type": "text",
    "id": "6qA2cE8f4IJb"
   },
   "source": [
    "### Tuning n_neighbor dengan weight by distance"
   ]
  },
  {
   "cell_type": "code",
   "execution_count": 100,
   "metadata": {
    "colab": {
     "base_uri": "https://localhost:8080/",
     "height": 1000
    },
    "colab_type": "code",
    "id": "LjoNye5S4Baz",
    "outputId": "bbbf72fc-940b-4375-df5a-a9aab289700d"
   },
   "outputs": [
    {
     "name": "stdout",
     "output_type": "stream",
     "text": [
      "Max test score: 0.9208435207823961\n",
      "n_neighbor: 15\n"
     ]
    },
    {
     "data": {
      "image/png": "[encoded data removed]",
      "text/plain": [
       "<Figure size 432x288 with 1 Axes>"
      ]
     },
     "metadata": {
      "needs_background": "light"
     },
     "output_type": "display_data"
    }
   ],
   "source": [
    "neighbor=range(1,51,2)\n",
    "train_score=[]\n",
    "test_score=[]\n",
    "for k in neighbor:\n",
    "  knn=KNeighborsClassifier(n_neighbors=k, weights=\"distance\")\n",
    "  knn.fit(x_train_scaled,y_train)\n",
    "\n",
    "  train_score.append(knn.score(x_train_scaled,y_train))\n",
    "  test_score.append(knn.score(x_test_scaled,y_test))\n",
    "\n",
    "import matplotlib.pyplot as plt\n",
    "plt.plot(neighbor,train_score,label=\"train\")\n",
    "plt.plot(neighbor, test_score, label=\"test\")\n",
    "plt.legend()\n",
    "\n",
    "maxtestscore=np.max(test_score)\n",
    "argmaxtestscore=np.argmax(test_score)\n",
    "print(\"Max test score:\", maxtestscore)\n",
    "print(\"n_neighbor:\", argmaxtestscore)"
   ]
  },
  {
   "cell_type": "markdown",
   "metadata": {
    "colab_type": "text",
    "id": "WSJ12_Fz4w0V"
   },
   "source": [
    "### Eucledian Distance"
   ]
  },
  {
   "cell_type": "code",
   "execution_count": 101,
   "metadata": {
    "colab": {
     "base_uri": "https://localhost:8080/",
     "height": 1000
    },
    "colab_type": "code",
    "id": "0D9t_Qs74LRr",
    "outputId": "0939ea60-6aff-4d06-d20e-a6273c9e985f"
   },
   "outputs": [
    {
     "name": "stdout",
     "output_type": "stream",
     "text": [
      "Max test score: 0.9208435207823961\n",
      "n_neighbor: 15\n"
     ]
    },
    {
     "data": {
      "image/png": "[encoded data removed]",
      "text/plain": [
       "<Figure size 432x288 with 1 Axes>"
      ]
     },
     "metadata": {
      "needs_background": "light"
     },
     "output_type": "display_data"
    }
   ],
   "source": [
    "neighbor=range(1,51,2)\n",
    "train_score=[]\n",
    "test_score=[]\n",
    "for k in neighbor:\n",
    "  knn=KNeighborsClassifier(n_neighbors=k, weights=\"distance\",p=2)\n",
    "  knn.fit(x_train_scaled,y_train)\n",
    "\n",
    "  train_score.append(knn.score(x_train_scaled,y_train))\n",
    "  test_score.append(knn.score(x_test_scaled,y_test))\n",
    "\n",
    "import matplotlib.pyplot as plt\n",
    "plt.plot(neighbor,train_score,label=\"train\")\n",
    "plt.plot(neighbor, test_score, label=\"test\")\n",
    "plt.legend()\n",
    "\n",
    "maxtestscore=np.max(test_score)\n",
    "argmaxtestscore=np.argmax(test_score)\n",
    "print(\"Max test score:\", maxtestscore)\n",
    "print(\"n_neighbor:\", argmaxtestscore)"
   ]
  },
  {
   "cell_type": "code",
   "execution_count": 102,
   "metadata": {
    "colab": {
     "base_uri": "https://localhost:8080/",
     "height": 263
    },
    "colab_type": "code",
    "id": "x8lvkGZd43JM",
    "outputId": "02ba87b9-773b-4358-cdc6-6e1208787ce3"
   },
   "outputs": [
    {
     "name": "stdout",
     "output_type": "stream",
     "text": [
      "[[1015  670]\n",
      " [  85 1502]]\n",
      "              precision    recall  f1-score   support\n",
      "\n",
      "           0       0.92      0.60      0.73      1685\n",
      "           1       0.69      0.95      0.80      1587\n",
      "\n",
      "    accuracy                           0.77      3272\n",
      "   macro avg       0.81      0.77      0.76      3272\n",
      "weighted avg       0.81      0.77      0.76      3272\n",
      "\n"
     ]
    }
   ],
   "source": [
    "kneigh=KNeighborsClassifier(n_neighbors=14)\n",
    "kneigh.fit(x_train, y_train)\n",
    "pred=kneigh.predict(x_test)\n",
    "\n",
    "print(confusion_matrix(y_test,pred))\n",
    "print(classification_report(y_test,pred))"
   ]
  },
  {
   "cell_type": "markdown",
   "metadata": {
    "colab_type": "text",
    "id": "AF_0P9MS3uLu"
   },
   "source": [
    "## DecisionTree"
   ]
  },
  {
   "cell_type": "code",
   "execution_count": 103,
   "metadata": {
    "colab": {},
    "colab_type": "code",
    "id": "NmDwZ5RVjHB5"
   },
   "outputs": [],
   "source": [
    "#DTC\n",
    "model_DTC = DecisionTreeClassifier()\n",
    "model_DTC.fit(x_train, y_train)\n",
    "y_pred_DTC = model_DTC.predict(x_test) # prediksi"
   ]
  },
  {
   "cell_type": "code",
   "execution_count": 104,
   "metadata": {
    "colab": {
     "base_uri": "https://localhost:8080/",
     "height": 87
    },
    "colab_type": "code",
    "id": "ukuPrDnClllw",
    "outputId": "296fe6d3-f241-4ae3-b2ce-f993969e7aaa"
   },
   "outputs": [
    {
     "name": "stdout",
     "output_type": "stream",
     "text": [
      "Confusion Matrix\n",
      "\n",
      "[[1473  212]\n",
      " [  90 1497]]\n"
     ]
    }
   ],
   "source": [
    "#importing confusion matrix\n",
    "confusion = confusion_matrix(y_test, y_pred_DTC)\n",
    "print('Confusion Matrix\\n')\n",
    "print(confusion)"
   ]
  },
  {
   "cell_type": "code",
   "execution_count": 105,
   "metadata": {
    "colab": {
     "base_uri": "https://localhost:8080/",
     "height": 35
    },
    "colab_type": "code",
    "id": "-lPnVl9nK-g-",
    "outputId": "8ec17818-147f-4ce5-bef4-b2d058c685f3"
   },
   "outputs": [
    {
     "name": "stdout",
     "output_type": "stream",
     "text": [
      "Accuracy: 90.77%\n"
     ]
    }
   ],
   "source": [
    "accuracy_DTC = accuracy_score(y_test, y_pred_DTC)\n",
    "print(\"Accuracy: %.2f%%\" % (accuracy_DTC * 100.0))"
   ]
  },
  {
   "cell_type": "code",
   "execution_count": 106,
   "metadata": {
    "colab": {
     "base_uri": "https://localhost:8080/",
     "height": 35
    },
    "colab_type": "code",
    "id": "lF3s-g1dJ85g",
    "outputId": "424bb490-4b15-4c59-a249-500d420d47c6"
   },
   "outputs": [
    {
     "data": {
      "text/plain": [
       "(1.0, 0.9077017114914425)"
      ]
     },
     "execution_count": 106,
     "metadata": {},
     "output_type": "execute_result"
    }
   ],
   "source": [
    "model_DTC.score(x_train,y_train), model_DTC.score(x_test,y_test)"
   ]
  },
  {
   "cell_type": "code",
   "execution_count": 107,
   "metadata": {
    "colab": {
     "base_uri": "https://localhost:8080/",
     "height": 225
    },
    "colab_type": "code",
    "id": "5vAWaiFymHLO",
    "outputId": "92573cf8-10b9-4c63-f0a1-e833b6639d56"
   },
   "outputs": [
    {
     "name": "stdout",
     "output_type": "stream",
     "text": [
      "\n",
      "Classification Report\n",
      "\n",
      "              precision    recall  f1-score   support\n",
      "\n",
      " not default       0.94      0.87      0.91      1685\n",
      "     default       0.88      0.94      0.91      1587\n",
      "\n",
      "    accuracy                           0.91      3272\n",
      "   macro avg       0.91      0.91      0.91      3272\n",
      "weighted avg       0.91      0.91      0.91      3272\n",
      "\n"
     ]
    }
   ],
   "source": [
    "print('\\nClassification Report\\n')\n",
    "print(classification_report(y_test, y_pred_DTC, target_names=['not default', 'default']))"
   ]
  },
  {
   "cell_type": "code",
   "execution_count": 108,
   "metadata": {
    "colab": {
     "base_uri": "https://localhost:8080/",
     "height": 35
    },
    "colab_type": "code",
    "id": "2xAigKzYIGRx",
    "outputId": "6695411a-e004-46de-818e-f40d34062254"
   },
   "outputs": [
    {
     "data": {
      "text/plain": [
       "0.9087366006069343"
      ]
     },
     "execution_count": 108,
     "metadata": {},
     "output_type": "execute_result"
    }
   ],
   "source": [
    "# auc scores\n",
    "auc_score_DTC = roc_auc_score(y_test, y_pred_DTC[:])\n",
    "auc_score_DTC"
   ]
  },
  {
   "cell_type": "markdown",
   "metadata": {
    "colab_type": "text",
    "id": "JGgZs_cV5EK7"
   },
   "source": [
    "## Model XGBoost"
   ]
  },
  {
   "cell_type": "code",
   "execution_count": 109,
   "metadata": {
    "colab": {
     "base_uri": "https://localhost:8080/",
     "height": 107
    },
    "colab_type": "code",
    "id": "E6oEX_1TjHoU",
    "outputId": "7a1371e4-0b17-4b81-83e3-66f808a80af7"
   },
   "outputs": [],
   "source": [
    "#XGb\n",
    "\n",
    "model_xgb = XGBClassifier()\n",
    "model_xgb.fit(x_train, y_train)\n",
    "y_pred_xgb = model_xgb.predict(x_test)"
   ]
  },
  {
   "cell_type": "code",
   "execution_count": 110,
   "metadata": {
    "colab": {
     "base_uri": "https://localhost:8080/",
     "height": 87
    },
    "colab_type": "code",
    "id": "pTkLu9sYKzNG",
    "outputId": "ed89f4c8-17e7-4718-ecb6-b5658a1b6341"
   },
   "outputs": [
    {
     "name": "stdout",
     "output_type": "stream",
     "text": [
      "Confusion Matrix\n",
      "\n",
      "[[1619   66]\n",
      " [ 117 1470]]\n"
     ]
    }
   ],
   "source": [
    "#importing confusion matrix\n",
    "confusion = confusion_matrix(y_test, y_pred_xgb)\n",
    "print('Confusion Matrix\\n')\n",
    "print(confusion)"
   ]
  },
  {
   "cell_type": "code",
   "execution_count": 111,
   "metadata": {
    "colab": {
     "base_uri": "https://localhost:8080/",
     "height": 35
    },
    "colab_type": "code",
    "id": "6_DESyKBBb36",
    "outputId": "ccf85507-00b0-42bc-9eee-81563e63fd46"
   },
   "outputs": [
    {
     "name": "stdout",
     "output_type": "stream",
     "text": [
      "Accuracy: 94.41%\n"
     ]
    }
   ],
   "source": [
    "accuracy_xgb = accuracy_score(y_test, y_pred_xgb)\n",
    "print(\"Accuracy: %.2f%%\" % (accuracy_xgb * 100.0))"
   ]
  },
  {
   "cell_type": "code",
   "execution_count": 112,
   "metadata": {
    "colab": {
     "base_uri": "https://localhost:8080/",
     "height": 35
    },
    "colab_type": "code",
    "id": "qHjg-5tYKhzt",
    "outputId": "5065c31c-d4f1-4b52-fc49-86eee53689bb"
   },
   "outputs": [
    {
     "data": {
      "text/plain": [
       "(0.9769763651181744, 0.9440709046454768)"
      ]
     },
     "execution_count": 112,
     "metadata": {},
     "output_type": "execute_result"
    }
   ],
   "source": [
    "model_xgb.score(x_train,y_train), model_xgb.score(x_test,y_test)"
   ]
  },
  {
   "cell_type": "code",
   "execution_count": 113,
   "metadata": {
    "colab": {
     "base_uri": "https://localhost:8080/",
     "height": 225
    },
    "colab_type": "code",
    "id": "Ji6rzsqhEY0A",
    "outputId": "142a74b9-bfde-4d7f-87fb-54b6c3ffd955"
   },
   "outputs": [
    {
     "name": "stdout",
     "output_type": "stream",
     "text": [
      "\n",
      "Classification Report\n",
      "\n",
      "              precision    recall  f1-score   support\n",
      "\n",
      " not default       0.93      0.96      0.95      1685\n",
      "     default       0.96      0.93      0.94      1587\n",
      "\n",
      "    accuracy                           0.94      3272\n",
      "   macro avg       0.94      0.94      0.94      3272\n",
      "weighted avg       0.94      0.94      0.94      3272\n",
      "\n"
     ]
    }
   ],
   "source": [
    "print('\\nClassification Report\\n')\n",
    "print(classification_report(y_test, y_pred_xgb, target_names=['not default', 'default']))"
   ]
  },
  {
   "cell_type": "code",
   "execution_count": 114,
   "metadata": {
    "colab": {
     "base_uri": "https://localhost:8080/",
     "height": 35
    },
    "colab_type": "code",
    "id": "959ukjiRHdb6",
    "outputId": "d4da0a63-a960-4bb5-a019-12f794de849f"
   },
   "outputs": [
    {
     "data": {
      "text/plain": [
       "0.943553426486344"
      ]
     },
     "execution_count": 114,
     "metadata": {},
     "output_type": "execute_result"
    }
   ],
   "source": [
    "# auc scores\n",
    "auc_score_xgb = roc_auc_score(y_test, y_pred_xgb[:])\n",
    "auc_score_xgb"
   ]
  },
  {
   "cell_type": "code",
   "execution_count": 115,
   "metadata": {
    "colab": {
     "base_uri": "https://localhost:8080/",
     "height": 72
    },
    "colab_type": "code",
    "id": "OQtA4EiwA79i",
    "outputId": "6669a6ac-d4dd-4f16-df16-e2c0e2f6f0bf"
   },
   "outputs": [
    {
     "name": "stderr",
     "output_type": "stream",
     "text": [
      "D:\\Miniconda3\\lib\\site-packages\\sklearn\\metrics\\_ranking.py:813: UndefinedMetricWarning: No positive samples in y_true, true positive value should be meaningless\n",
      "  UndefinedMetricWarning)\n"
     ]
    }
   ],
   "source": [
    "# roc curve for models\n",
    "fpr_xgb, tpr_xgb, thresh_xgb = roc_curve(y_test, y_pred_xgb[:], pos_label=xgb)"
   ]
  },
  {
   "cell_type": "code",
   "execution_count": 116,
   "metadata": {
    "colab": {
     "base_uri": "https://localhost:8080/",
     "height": 72
    },
    "colab_type": "code",
    "id": "Gl6N7dnWHGcr",
    "outputId": "dbdcbeda-5fe5-40c7-a072-ca57efc178b7"
   },
   "outputs": [],
   "source": [
    "# roc curve for tpr = fpr \n",
    "random_probs = [0 for i in range(len(y_test))]\n",
    "p_fpr_xgb, p_tpr_xgb, _ = roc_curve(y_test, random_probs, pos_label=xgb)"
   ]
  }
 ],
 "metadata": {
  "colab": {
   "collapsed_sections": [],
   "name": "Final Project Compfest.ipynb",
   "provenance": [],
   "toc_visible": true
  },
  "kernelspec": {
   "display_name": "Python 3",
   "language": "python",
   "name": "python3"
  },
  "language_info": {
   "codemirror_mode": {
    "name": "ipython",
    "version": 3
   },
   "file_extension": ".py",
   "mimetype": "text/x-python",
   "name": "python",
   "nbconvert_exporter": "python",
   "pygments_lexer": "ipython3",
   "version": "3.7.6"
  }
 },
 "nbformat": 4,
 "nbformat_minor": 1
}
